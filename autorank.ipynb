{
  "nbformat": 4,
  "nbformat_minor": 0,
  "metadata": {
    "colab": {
      "name": "autorank.ipynb",
      "provenance": []
    },
    "kernelspec": {
      "name": "python3",
      "display_name": "Python 3"
    },
    "language_info": {
      "name": "python"
    }
  },
  "cells": [
    {
      "cell_type": "code",
      "metadata": {
        "id": "DytKj0qLI4sD",
        "colab": {
          "base_uri": "https://localhost:8080/"
        },
        "outputId": "3bd7be19-ee7c-41e7-fee7-d609f968c38c"
      },
      "source": [
        "import numpy as np\n",
        "import pandas as pd\n",
        "import matplotlib.pyplot as plt\n",
        "from autorank import autorank, create_report, plot_stats, latex_table"
      ],
      "execution_count": null,
      "outputs": [
        {
          "output_type": "stream",
          "text": [
            "/usr/local/lib/python3.7/dist-packages/statsmodels/tools/_testing.py:19: FutureWarning: pandas.util.testing is deprecated. Use the functions in the public API at pandas.testing instead.\n",
            "  import pandas.util.testing as tm\n"
          ],
          "name": "stderr"
        }
      ]
    },
    {
      "cell_type": "code",
      "metadata": {
        "colab": {
          "base_uri": "https://localhost:8080/"
        },
        "id": "SaAprbMmSsc1",
        "outputId": "ddc5c141-7e9d-4638-e9ec-1b719519d37f"
      },
      "source": [
        "!pip install autorank\n"
      ],
      "execution_count": null,
      "outputs": [
        {
          "output_type": "stream",
          "text": [
            "Collecting autorank\n",
            "  Downloading autorank-1.1.1-py3-none-any.whl (33 kB)\n",
            "Requirement already satisfied: statsmodels>=0.10.0 in /usr/local/lib/python3.7/dist-packages (from autorank) (0.10.2)\n",
            "Requirement already satisfied: scipy>=1.3.0 in /usr/local/lib/python3.7/dist-packages (from autorank) (1.4.1)\n",
            "Requirement already satisfied: pandas>=0.25.0 in /usr/local/lib/python3.7/dist-packages (from autorank) (1.1.5)\n",
            "Requirement already satisfied: matplotlib>=3.1.3 in /usr/local/lib/python3.7/dist-packages (from autorank) (3.2.2)\n",
            "Requirement already satisfied: numpy in /usr/local/lib/python3.7/dist-packages (from autorank) (1.19.5)\n",
            "Collecting baycomp>=1.0.2\n",
            "  Downloading baycomp-1.0.2-py3-none-any.whl (17 kB)\n",
            "Requirement already satisfied: python-dateutil>=2.1 in /usr/local/lib/python3.7/dist-packages (from matplotlib>=3.1.3->autorank) (2.8.1)\n",
            "Requirement already satisfied: cycler>=0.10 in /usr/local/lib/python3.7/dist-packages (from matplotlib>=3.1.3->autorank) (0.10.0)\n",
            "Requirement already satisfied: pyparsing!=2.0.4,!=2.1.2,!=2.1.6,>=2.0.1 in /usr/local/lib/python3.7/dist-packages (from matplotlib>=3.1.3->autorank) (2.4.7)\n",
            "Requirement already satisfied: kiwisolver>=1.0.1 in /usr/local/lib/python3.7/dist-packages (from matplotlib>=3.1.3->autorank) (1.3.1)\n",
            "Requirement already satisfied: six in /usr/local/lib/python3.7/dist-packages (from cycler>=0.10->matplotlib>=3.1.3->autorank) (1.15.0)\n",
            "Requirement already satisfied: pytz>=2017.2 in /usr/local/lib/python3.7/dist-packages (from pandas>=0.25.0->autorank) (2018.9)\n",
            "Requirement already satisfied: patsy>=0.4.0 in /usr/local/lib/python3.7/dist-packages (from statsmodels>=0.10.0->autorank) (0.5.1)\n",
            "Installing collected packages: baycomp, autorank\n",
            "Successfully installed autorank-1.1.1 baycomp-1.0.2\n"
          ],
          "name": "stdout"
        }
      ]
    },
    {
      "cell_type": "code",
      "metadata": {
        "colab": {
          "base_uri": "https://localhost:8080/"
        },
        "id": "Dxcw5mMnMwST",
        "outputId": "ec5459c8-4898-42e1-ba1c-0e9ba9d6360a"
      },
      "source": [
        "from google.colab import drive\n",
        "drive.mount('/content/drive')"
      ],
      "execution_count": null,
      "outputs": [
        {
          "output_type": "stream",
          "text": [
            "Drive already mounted at /content/drive; to attempt to forcibly remount, call drive.mount(\"/content/drive\", force_remount=True).\n"
          ],
          "name": "stdout"
        }
      ]
    },
    {
      "cell_type": "markdown",
      "metadata": {
        "id": "_Ug69ig8SMFl"
      },
      "source": [
        "# New Section"
      ]
    },
    {
      "cell_type": "markdown",
      "metadata": {
        "id": "t0ERG2ffNEnd"
      },
      "source": [
        ""
      ]
    },
    {
      "cell_type": "code",
      "metadata": {
        "id": "PefJTT7yI4o6"
      },
      "source": [
        "df1 = pd.read_csv(\"/content/data_hema_F1.csv\")\n"
      ],
      "execution_count": null,
      "outputs": []
    },
    {
      "cell_type": "code",
      "metadata": {
        "colab": {
          "base_uri": "https://localhost:8080/",
          "height": 363
        },
        "id": "Jz6ok6FHJHPj",
        "outputId": "a01e3bf8-9af7-4f8f-c908-cca7fe656032"
      },
      "source": [
        "df1\n",
        "\n"
      ],
      "execution_count": null,
      "outputs": [
        {
          "output_type": "execute_result",
          "data": {
            "text/html": [
              "<div>\n",
              "<style scoped>\n",
              "    .dataframe tbody tr th:only-of-type {\n",
              "        vertical-align: middle;\n",
              "    }\n",
              "\n",
              "    .dataframe tbody tr th {\n",
              "        vertical-align: top;\n",
              "    }\n",
              "\n",
              "    .dataframe thead th {\n",
              "        text-align: right;\n",
              "    }\n",
              "</style>\n",
              "<table border=\"1\" class=\"dataframe\">\n",
              "  <thead>\n",
              "    <tr style=\"text-align: right;\">\n",
              "      <th></th>\n",
              "      <th>EBR</th>\n",
              "      <th>ECC</th>\n",
              "      <th>EPS</th>\n",
              "      <th>RAkEL</th>\n",
              "      <th>Adaboost.MH</th>\n",
              "      <th>MLkNN</th>\n",
              "      <th>EMSTE</th>\n",
              "    </tr>\n",
              "  </thead>\n",
              "  <tbody>\n",
              "    <tr>\n",
              "      <th>0</th>\n",
              "      <td>5</td>\n",
              "      <td>4</td>\n",
              "      <td>6</td>\n",
              "      <td>6</td>\n",
              "      <td>7</td>\n",
              "      <td>3</td>\n",
              "      <td>1</td>\n",
              "    </tr>\n",
              "    <tr>\n",
              "      <th>1</th>\n",
              "      <td>4</td>\n",
              "      <td>3</td>\n",
              "      <td>5</td>\n",
              "      <td>6</td>\n",
              "      <td>7</td>\n",
              "      <td>2</td>\n",
              "      <td>1</td>\n",
              "    </tr>\n",
              "    <tr>\n",
              "      <th>2</th>\n",
              "      <td>4</td>\n",
              "      <td>3</td>\n",
              "      <td>5</td>\n",
              "      <td>6</td>\n",
              "      <td>7</td>\n",
              "      <td>1</td>\n",
              "      <td>2</td>\n",
              "    </tr>\n",
              "    <tr>\n",
              "      <th>3</th>\n",
              "      <td>4</td>\n",
              "      <td>6</td>\n",
              "      <td>3</td>\n",
              "      <td>4</td>\n",
              "      <td>7</td>\n",
              "      <td>4</td>\n",
              "      <td>1</td>\n",
              "    </tr>\n",
              "    <tr>\n",
              "      <th>4</th>\n",
              "      <td>5</td>\n",
              "      <td>4</td>\n",
              "      <td>5</td>\n",
              "      <td>2</td>\n",
              "      <td>1</td>\n",
              "      <td>7</td>\n",
              "      <td>4</td>\n",
              "    </tr>\n",
              "    <tr>\n",
              "      <th>5</th>\n",
              "      <td>5</td>\n",
              "      <td>2</td>\n",
              "      <td>6</td>\n",
              "      <td>7</td>\n",
              "      <td>4</td>\n",
              "      <td>5</td>\n",
              "      <td>1</td>\n",
              "    </tr>\n",
              "    <tr>\n",
              "      <th>6</th>\n",
              "      <td>6</td>\n",
              "      <td>4</td>\n",
              "      <td>4</td>\n",
              "      <td>5</td>\n",
              "      <td>3</td>\n",
              "      <td>2</td>\n",
              "      <td>1</td>\n",
              "    </tr>\n",
              "    <tr>\n",
              "      <th>7</th>\n",
              "      <td>3</td>\n",
              "      <td>3</td>\n",
              "      <td>6</td>\n",
              "      <td>4</td>\n",
              "      <td>7</td>\n",
              "      <td>4</td>\n",
              "      <td>1</td>\n",
              "    </tr>\n",
              "    <tr>\n",
              "      <th>8</th>\n",
              "      <td>4</td>\n",
              "      <td>3</td>\n",
              "      <td>6</td>\n",
              "      <td>5</td>\n",
              "      <td>2</td>\n",
              "      <td>4</td>\n",
              "      <td>1</td>\n",
              "    </tr>\n",
              "    <tr>\n",
              "      <th>9</th>\n",
              "      <td>5</td>\n",
              "      <td>4</td>\n",
              "      <td>3</td>\n",
              "      <td>6</td>\n",
              "      <td>7</td>\n",
              "      <td>2</td>\n",
              "      <td>1</td>\n",
              "    </tr>\n",
              "  </tbody>\n",
              "</table>\n",
              "</div>"
            ],
            "text/plain": [
              "    EBR  ECC  EPS  RAkEL  Adaboost.MH  MLkNN  EMSTE\n",
              "0     5    4    6      6            7      3      1\n",
              "1     4    3    5      6            7      2      1\n",
              "2     4    3    5      6            7      1      2\n",
              "3     4    6    3      4            7      4      1\n",
              "4     5    4    5      2            1      7      4\n",
              "5     5    2    6      7            4      5      1\n",
              "6     6    4    4      5            3      2      1\n",
              "7     3    3    6      4            7      4      1\n",
              "8     4    3    6      5            2      4      1\n",
              "9     5    4    3      6            7      2      1"
            ]
          },
          "metadata": {
            "tags": []
          },
          "execution_count": 42
        }
      ]
    },
    {
      "cell_type": "code",
      "metadata": {
        "colab": {
          "base_uri": "https://localhost:8080/"
        },
        "id": "z1E7WsHxI4mU",
        "outputId": "51ab35d2-9ff8-4ed9-9cba-6bd1e1bb5e7e"
      },
      "source": [
        "res = autorank(df1, alpha=0.05, verbose=False)\n",
        "print(res)"
      ],
      "execution_count": null,
      "outputs": [
        {
          "output_type": "stream",
          "text": [
            "RankResult(rankdf=\n",
            "             meanrank  median     mad ci_lower ci_upper effect_size   magnitude\n",
            "RAkEL            2.70     5.5  0.7413        2        7           0  negligible\n",
            "Adaboost.MH      2.90     7.0       0        1        7    -2.86162       large\n",
            "EPS              3.05     5.0  1.4826        3        6    0.426585       small\n",
            " EBR             3.50     4.5  0.7413        3        6     1.34898       large\n",
            "ECC              4.55     3.5  0.7413        2        6     2.69796       large\n",
            "MLkNN            4.65     3.5  2.2239        1        7     1.20657       large\n",
            "EMSTE            6.65     1.0       0        1        4     8.58487       large\n",
            "pvalue=0.00023851077918779587\n",
            "cd=2.848314607025562\n",
            "omnibus=friedman\n",
            "posthoc=nemenyi\n",
            "all_normal=False\n",
            "pvals_shapiro=[0.2575514614582062, 0.08975173532962799, 0.028023045510053635, 0.2045045644044876, 0.002976025454699993, 0.46340128779411316, 3.671610556921223e-06]\n",
            "homoscedastic=True\n",
            "pval_homogeneity=0.18353569552923488\n",
            "homogeneity_test=levene\n",
            "alpha=0.05\n",
            "alpha_normality=0.0071428571428571435\n",
            "num_samples=10\n",
            "posterior_matrix=\n",
            "None\n",
            "decision_matrix=\n",
            "None\n",
            "rope=None\n",
            "rope_mode=None\n",
            "effect_size=akinshin_gamma)\n"
          ],
          "name": "stdout"
        }
      ]
    },
    {
      "cell_type": "code",
      "metadata": {
        "colab": {
          "base_uri": "https://localhost:8080/",
          "height": 608
        },
        "id": "DsK53xEVI4jh",
        "outputId": "ca706827-aeb6-427b-a716-ed032c1f21d4"
      },
      "source": [
        "create_report(res)\n",
        "plot_stats(res)\n",
        "plt.show()\n",
        "latex_table(res)"
      ],
      "execution_count": null,
      "outputs": [
        {
          "output_type": "stream",
          "text": [
            "The statistical analysis was conducted for 7 populations with 10 paired samples.\n",
            "The family-wise significance level of the tests is alpha=0.050.\n",
            "We rejected the null hypothesis that the population is normal for the populations ECC (p=0.003) and EMSTE (p=0.000). Therefore, we assume that not all populations are normal.\n",
            "Because we have more than two populations and the populations and some of them are not normal, we use the non-parametric Friedman test as omnibus test to determine if there are any significant differences between the median values of the populations. We use the post-hoc Nemenyi test to infer which differences are significant. We report the median (MD), the median absolute deviation (MAD) and the mean rank (MR) among all populations over the samples. Differences between populations are significant, if the difference of the mean rank is greater than the critical distance CD=2.848 of the Nemenyi test.\n",
            "We reject the null hypothesis (p=0.000) of the Friedman test that there is no difference in the central tendency of the populations RAkEL (MD=5.500+-2.500, MAD=0.741, MR=2.700), Adaboost.MH (MD=7.000+-3.000, MAD=0.000, MR=2.900), EPS (MD=5.000+-1.500, MAD=1.483, MR=3.050),  EBR (MD=4.500+-1.500, MAD=0.741, MR=3.500), ECC (MD=3.500+-2.000, MAD=0.741, MR=4.550), MLkNN (MD=3.500+-3.000, MAD=2.224, MR=4.650), and EMSTE (MD=1.000+-1.500, MAD=0.000, MR=6.650). Therefore, we assume that there is a statistically significant difference between the median values of the populations.\n",
            "Based on the post-hoc Nemenyi test, we assume that there are no significant differences within the following groups: RAkEL, Adaboost.MH, EPS,  EBR, ECC, and MLkNN; ECC, MLkNN, and EMSTE. All other differences are significant.\n"
          ],
          "name": "stdout"
        },
        {
          "output_type": "display_data",
          "data": {
            "image/png": "[encoded data removed]",
            "text/plain": [
              "<Figure size 432x140.4 with 1 Axes>"
            ]
          },
          "metadata": {
            "tags": []
          }
        },
        {
          "output_type": "stream",
          "text": [
            "\\begin{table}[h]\n",
            "\\centering\n",
            "\\begin{tabular}{lrrllll}\n",
            "\\toprule\n",
            "{} &    MR &   MED &   MAD &              CI & $\\gamma$ &   Magnitude \\\\\n",
            "\\midrule\n",
            "RAkEL       & 2.700 & 5.500 & 0.741 &  [2.000, 7.000] &     0.000 &  negligible \\\\\n",
            "Adaboost.MH & 2.900 & 7.000 & 0.000 &  [1.000, 7.000] &    -2.862 &       large \\\\\n",
            "EPS         & 3.050 & 5.000 & 1.483 &  [3.000, 6.000] &     0.427 &       small \\\\\n",
            " EBR        & 3.500 & 4.500 & 0.741 &  [3.000, 6.000] &     1.349 &       large \\\\\n",
            "ECC         & 4.550 & 3.500 & 0.741 &  [2.000, 6.000] &     2.698 &       large \\\\\n",
            "MLkNN       & 4.650 & 3.500 & 2.224 &  [1.000, 7.000] &     1.207 &       large \\\\\n",
            "EMSTE       & 6.650 & 1.000 & 0.000 &  [1.000, 4.000] &     8.585 &       large \\\\\n",
            "\\bottomrule\n",
            "\\end{tabular}\n",
            "\\caption{Summary of populations}\n",
            "\\label{tbl:stat_results}\n",
            "\\end{table}\n"
          ],
          "name": "stdout"
        }
      ]
    },
    {
      "cell_type": "markdown",
      "metadata": {
        "id": "UexqsXkfVBGu"
      },
      "source": [
        ""
      ]
    },
    {
      "cell_type": "code",
      "metadata": {
        "colab": {
          "base_uri": "https://localhost:8080/"
        },
        "id": "4-L42EliIrqn",
        "outputId": "7195a498-0fd7-43c8-a375-2759765a83ba"
      },
      "source": [
        "import numpy as np\n",
        "import pandas as pd\n",
        "import matplotlib.pyplot as plt\n",
        "from autorank import autorank, create_report, plot_stats, latex_table\n",
        "\n",
        "np.random.seed(42)\n",
        "pd.set_option('display.max_columns', 7)\n",
        "std = 0.3\n",
        "means = [0.2, 0.3, 0.5, 0.8, 0.85, 0.9]\n",
        "sample_size = 50\n",
        "data = pd.DataFrame()\n",
        "for i, mean in enumerate(means):\n",
        "    data['pop_%i' % i] = np.random.normal(mean, std, sample_size).clip(0, 1)\n",
        "print(data)\n"
      ],
      "execution_count": null,
      "outputs": [
        {
          "output_type": "stream",
          "text": [
            "       pop_0     pop_1     pop_2     pop_3     pop_4     pop_5\n",
            "0   0.349014  0.397225  0.075389  0.875148  0.957336  0.521735\n",
            "1   0.158521  0.184475  0.373806  0.903934  1.000000  1.000000\n",
            "2   0.394307  0.096923  0.397186  0.595993  1.000000  1.000000\n",
            "3   0.656909  0.483503  0.259317  0.869676  1.000000  1.000000\n",
            "4   0.129754  0.609300  0.451614  0.887922  0.436699  0.444189\n",
            "5   0.129759  0.579384  0.621215  0.585695  0.568652  0.754730\n",
            "6   0.673764  0.048235  1.000000  1.000000  1.000000  1.000000\n",
            "7   0.430230  0.207236  0.552373  0.942150  1.000000  0.687699\n",
            "8   0.059158  0.399379  0.577265  0.442609  1.000000  1.000000\n",
            "9   0.362768  0.592664  0.477666  0.996966  1.000000  1.000000\n",
            "10  0.060975  0.156248  0.000000  0.507595  1.000000  0.621921\n",
            "11  0.060281  0.244302  0.492046  1.000000  1.000000  0.882142\n",
            "12  0.272589  0.000000  0.518069  1.000000  1.000000  0.000000\n",
            "13  0.000000  0.000000  1.000000  0.553795  1.000000  0.592684\n",
            "14  0.000000  0.543758  0.442292  1.000000  0.755419  0.824230\n",
            "15  0.031314  0.706872  0.590464  0.923834  1.000000  0.525665\n",
            "16  0.000000  0.278397  0.489586  1.000000  0.618152  1.000000\n",
            "17  0.294274  0.601060  0.149397  1.000000  0.778954  0.470958\n",
            "18  0.000000  0.408491  0.842847  0.726384  0.704391  0.767987\n",
            "19  0.000000  0.106464  0.725580  0.573879  0.874562  0.939222\n",
            "20  0.639695  0.408419  0.737310  0.533146  1.000000  1.000000\n",
            "21  0.132267  0.761411  0.227184  0.555257  0.289820  0.469241\n",
            "22  0.220258  0.289252  0.920838  0.776869  1.000000  1.000000\n",
            "23  0.000000  0.769393  0.079445  0.902346  0.366185  0.903070\n",
            "24  0.036685  0.000000  0.676057  0.883007  0.708420  0.605547\n",
            "25  0.233277  0.546571  1.000000  1.000000  1.000000  1.000000\n",
            "26  0.000000  0.326114  0.202839  0.803901  0.869284  0.959718\n",
            "27  0.312709  0.210298  0.330111  1.000000  0.526677  0.719935\n",
            "28  0.019808  0.327528  0.529895  0.720603  0.635409  0.920941\n",
            "29  0.112492  0.000000  0.348957  1.000000  1.000000  0.784406\n",
            "30  0.019488  0.234098  0.034801  0.987700  0.630890  0.934055\n",
            "31  0.755683  0.407134  0.520569  0.542853  0.914938  1.000000\n",
            "32  0.195951  0.743368  0.181309  0.478732  0.863672  1.000000\n",
            "33  0.000000  0.144519  0.642078  0.944742  0.654520  0.528655\n",
            "34  0.446763  0.057452  0.224173  0.732961  1.000000  1.000000\n",
            "35  0.000000  0.149473  0.964980  1.000000  1.000000  0.314374\n",
            "36  0.262659  0.574621  0.265024  0.941971  0.242457  0.854464\n",
            "37  0.000000  0.398625  0.403382  0.778151  0.905936  1.000000\n",
            "38  0.000000  0.141072  0.744055  0.545962  0.651464  0.984298\n",
            "39  0.259058  0.453980  0.130741  0.345546  1.000000  0.713190\n",
            "40  0.421540  0.329123  0.568238  0.666046  0.612244  0.837563\n",
            "41  0.251410  0.590593  0.892143  1.000000  0.815579  0.752100\n",
            "42  0.165306  0.089384  0.017755  0.864228  1.000000  0.723191\n",
            "43  0.109669  0.201701  0.555390  0.426278  1.000000  1.000000\n",
            "44  0.000000  0.182368  0.577965  0.851954  0.489911  1.000000\n",
            "45  0.000000  0.000000  0.734547  0.915595  0.749650  0.692127\n",
            "46  0.061808  0.388836  0.128915  0.534843  0.707516  1.000000\n",
            "47  0.517137  0.378317  0.103863  0.846118  0.654001  0.992190\n",
            "48  0.303085  0.301534  0.656582  0.817463  1.000000  1.000000\n",
            "49  0.000000  0.229624  0.589095  0.457109  0.971495  1.000000\n"
          ],
          "name": "stdout"
        }
      ]
    },
    {
      "cell_type": "code",
      "metadata": {
        "colab": {
          "base_uri": "https://localhost:8080/"
        },
        "id": "HqwJwfaI5lcM",
        "outputId": "8691198c-5788-4bf3-c3c4-9325629c6e1a"
      },
      "source": [
        "res = autorank(data, alpha=0.05, verbose=False)\n",
        "print(res)\n"
      ],
      "execution_count": null,
      "outputs": [
        {
          "output_type": "stream",
          "text": [
            "RankResult(rankdf=\n",
            "       meanrank    median       mad  ci_lower  ci_upper effect_size  \\\n",
            "pop_5      2.18  0.912005  0.130461  0.692127         1           0   \n",
            "pop_4      2.29  0.910437  0.132786  0.654001         1   0.0119148   \n",
            "pop_3      2.47  0.858091  0.210394  0.573879         1    0.307991   \n",
            "pop_2      3.95  0.505057  0.333594  0.227184   0.72558     1.60669   \n",
            "pop_1      4.71  0.313824  0.247339  0.149473  0.546571     3.02519   \n",
            "pop_0      5.40  0.129756  0.192377         0  0.349014     4.75934   \n",
            "\n",
            "        magnitude  \n",
            "pop_5  negligible  \n",
            "pop_4  negligible  \n",
            "pop_3       small  \n",
            "pop_2       large  \n",
            "pop_1       large  \n",
            "pop_0       large  \n",
            "pvalue=2.3412212612346733e-28\n",
            "cd=1.0662484349869374\n",
            "omnibus=friedman\n",
            "posthoc=nemenyi\n",
            "all_normal=False\n",
            "pvals_shapiro=[1.646607051952742e-05, 0.0605173334479332, 0.13884511590003967, 0.00010030837438534945, 2.066387423838023e-06, 1.5319776593969436e-06]\n",
            "homoscedastic=True\n",
            "pval_homogeneity=0.2663177301695518\n",
            "homogeneity_test=levene\n",
            "alpha=0.05\n",
            "alpha_normality=0.008333333333333333\n",
            "num_samples=50\n",
            "posterior_matrix=\n",
            "None\n",
            "decision_matrix=\n",
            "None\n",
            "rope=None\n",
            "rope_mode=None\n",
            "effect_size=akinshin_gamma)\n"
          ],
          "name": "stdout"
        }
      ]
    },
    {
      "cell_type": "code",
      "metadata": {
        "colab": {
          "base_uri": "https://localhost:8080/",
          "height": 171
        },
        "id": "ncKj87Gb53ZD",
        "outputId": "a5e5d778-6195-48fb-f2aa-395746eac9e7"
      },
      "source": [
        "#create_report(res)\n",
        "plot_stats(res)\n",
        "plt.show()\n",
        "#latex_table(res)"
      ],
      "execution_count": null,
      "outputs": [
        {
          "output_type": "display_data",
          "data": {
            "image/png": "[encoded data removed]",
            "text/plain": [
              "<Figure size 432x140.4 with 1 Axes>"
            ]
          },
          "metadata": {
            "tags": []
          }
        }
      ]
    },
    {
      "cell_type": "code",
      "metadata": {
        "colab": {
          "base_uri": "https://localhost:8080/"
        },
        "id": "4BixFUGcVOgB",
        "outputId": "7bd1bf33-590e-4199-848a-7757bb9f1aa2"
      },
      "source": [
        "pip install autorank"
      ],
      "execution_count": null,
      "outputs": [
        {
          "output_type": "stream",
          "text": [
            "Collecting autorank\n",
            "  Downloading autorank-1.1.1-py3-none-any.whl (33 kB)\n",
            "Requirement already satisfied: pandas>=0.25.0 in /usr/local/lib/python3.7/dist-packages (from autorank) (1.1.5)\n",
            "Requirement already satisfied: numpy in /usr/local/lib/python3.7/dist-packages (from autorank) (1.19.5)\n",
            "Requirement already satisfied: matplotlib>=3.1.3 in /usr/local/lib/python3.7/dist-packages (from autorank) (3.2.2)\n",
            "Collecting baycomp>=1.0.2\n",
            "  Downloading baycomp-1.0.2-py3-none-any.whl (17 kB)\n",
            "Requirement already satisfied: statsmodels>=0.10.0 in /usr/local/lib/python3.7/dist-packages (from autorank) (0.10.2)\n",
            "Requirement already satisfied: scipy>=1.3.0 in /usr/local/lib/python3.7/dist-packages (from autorank) (1.4.1)\n",
            "Requirement already satisfied: pyparsing!=2.0.4,!=2.1.2,!=2.1.6,>=2.0.1 in /usr/local/lib/python3.7/dist-packages (from matplotlib>=3.1.3->autorank) (2.4.7)\n",
            "Requirement already satisfied: python-dateutil>=2.1 in /usr/local/lib/python3.7/dist-packages (from matplotlib>=3.1.3->autorank) (2.8.1)\n",
            "Requirement already satisfied: kiwisolver>=1.0.1 in /usr/local/lib/python3.7/dist-packages (from matplotlib>=3.1.3->autorank) (1.3.1)\n",
            "Requirement already satisfied: cycler>=0.10 in /usr/local/lib/python3.7/dist-packages (from matplotlib>=3.1.3->autorank) (0.10.0)\n",
            "Requirement already satisfied: six in /usr/local/lib/python3.7/dist-packages (from cycler>=0.10->matplotlib>=3.1.3->autorank) (1.15.0)\n",
            "Requirement already satisfied: pytz>=2017.2 in /usr/local/lib/python3.7/dist-packages (from pandas>=0.25.0->autorank) (2018.9)\n",
            "Requirement already satisfied: patsy>=0.4.0 in /usr/local/lib/python3.7/dist-packages (from statsmodels>=0.10.0->autorank) (0.5.1)\n",
            "Installing collected packages: baycomp, autorank\n",
            "Successfully installed autorank-1.1.1 baycomp-1.0.2\n"
          ],
          "name": "stdout"
        }
      ]
    },
    {
      "cell_type": "code",
      "metadata": {
        "colab": {
          "base_uri": "https://localhost:8080/"
        },
        "id": "0TMEG1Apz57b",
        "outputId": "4bb92097-c86f-43e7-dc6f-db7781bca624"
      },
      "source": [
        "!git clone https://github.com/hfawaz/cd-diagram.git"
      ],
      "execution_count": null,
      "outputs": [
        {
          "output_type": "stream",
          "text": [
            "Cloning into 'cd-diagram'...\n",
            "remote: Enumerating objects: 35, done.\u001b[K\n",
            "remote: Counting objects: 100% (7/7), done.\u001b[K\n",
            "remote: Compressing objects: 100% (6/6), done.\u001b[K\n",
            "remote: Total 35 (delta 1), reused 6 (delta 1), pack-reused 28\u001b[K\n",
            "Unpacking objects: 100% (35/35), done.\n"
          ],
          "name": "stdout"
        }
      ]
    },
    {
      "cell_type": "code",
      "metadata": {
        "colab": {
          "base_uri": "https://localhost:8080/"
        },
        "id": "iiBFJ6Y80N1R",
        "outputId": "20fcba91-6c42-4f9d-9c51-42daf9d10819"
      },
      "source": [
        "%cd cd-diagram/"
      ],
      "execution_count": null,
      "outputs": [
        {
          "output_type": "stream",
          "text": [
            "/content/cd-diagram\n"
          ],
          "name": "stdout"
        }
      ]
    },
    {
      "cell_type": "code",
      "metadata": {
        "colab": {
          "base_uri": "https://localhost:8080/"
        },
        "id": "XKbUzWtI0VAT",
        "outputId": "faea5369-f6f6-4763-91dc-a7ebc8e88993"
      },
      "source": [
        "!python main.py"
      ],
      "execution_count": null,
      "outputs": [
        {
          "output_type": "stream",
          "text": [
            "['clf3' 'clf5' 'clf1' 'clf4' 'clf2']\n",
            "clf1    1.0\n",
            "clf2    0.0\n",
            "clf3    7.0\n",
            "clf4    0.0\n",
            "clf5    4.0\n",
            "dtype: float64\n",
            "clf1    4.200000\n",
            "clf2    3.766667\n",
            "clf4    3.500000\n",
            "clf5    2.000000\n",
            "clf3    1.533333\n",
            "dtype: float64\n",
            "('clf2', 'clf3', 0.0007229186187432429, True)\n",
            "('clf1', 'clf3', 0.0008052762369668134, True)\n",
            "('clf2', 'clf5', 0.0008052762369668134, True)\n",
            "('clf3', 'clf4', 0.0008685535665822177, True)\n",
            "('clf1', 'clf5', 0.002610776740525937, True)\n",
            "('clf4', 'clf5', 0.002854354799586081, True)\n",
            "('clf1', 'clf4', 0.019877958489914162, False)\n",
            "('clf1', 'clf2', 0.06914397389751895, False)\n",
            "('clf2', 'clf4', 0.22194815136169888, False)\n",
            "('clf3', 'clf5', 0.36076268578167103, False)\n",
            "Index(['clf1', 'clf2', 'clf4', 'clf5', 'clf3'], dtype='object')\n",
            "[0, 1, 2]\n",
            "[3, 4]\n",
            "findfont: Font family ['sans-serif'] not found. Falling back to DejaVu Sans.\n",
            "findfont: Font family ['sans-serif'] not found. Falling back to DejaVu Sans.\n",
            "findfont: Font family ['sans-serif'] not found. Falling back to DejaVu Sans.\n"
          ],
          "name": "stdout"
        }
      ]
    },
    {
      "cell_type": "code",
      "metadata": {
        "colab": {
          "base_uri": "https://localhost:8080/"
        },
        "id": "vL2v6fAy4GuL",
        "outputId": "b44e1b9a-188c-43fa-84ca-56d1dbb3eeed"
      },
      "source": [
        "!pip install python==2.7.0"
      ],
      "execution_count": null,
      "outputs": [
        {
          "output_type": "stream",
          "text": [
            "\u001b[31mERROR: Could not find a version that satisfies the requirement python==2.7.0 (from versions: none)\u001b[0m\n",
            "\u001b[31mERROR: No matching distribution found for python==2.7.0\u001b[0m\n"
          ],
          "name": "stdout"
        }
      ]
    },
    {
      "cell_type": "code",
      "metadata": {
        "colab": {
          "base_uri": "https://localhost:8080/",
          "height": 367
        },
        "id": "I-s3WwCx12F7",
        "outputId": "59eaa195-f232-4f17-be2f-0641b0d2cefe"
      },
      "source": [
        "import Orange \n",
        "import matplotlib.pyplot as plt\n",
        "names = [\"EBR\", \"ECC\", \"EPS\", \"RAkEL\",\"Adaboost.MH\",\"MLkNN\",\"EMSTE\"]\n",
        "avranks = [4.5,4.9,5.3,4.5,3.6,3.3,1.9]\n",
        "cd = Orange.evaluation.compute_CD(avranks, 10,alpha=\"0.05\", test=\"bonferroni-dunn\") #tested on 10 datasets \n",
        "print(\"cd=\",cd)\n",
        "Orange.evaluation.graph_ranks(avranks, names, cd=cd, width=5, textspace=1.5, cdmethod=0)\n",
        "plt.show();"
      ],
      "execution_count": null,
      "outputs": [
        {
          "output_type": "error",
          "ename": "ModuleNotFoundError",
          "evalue": "ignored",
          "traceback": [
            "\u001b[0;31m---------------------------------------------------------------------------\u001b[0m",
            "\u001b[0;31mModuleNotFoundError\u001b[0m                       Traceback (most recent call last)",
            "\u001b[0;32m<ipython-input-16-49e9ece22709>\u001b[0m in \u001b[0;36m<module>\u001b[0;34m()\u001b[0m\n\u001b[0;32m----> 1\u001b[0;31m \u001b[0;32mimport\u001b[0m \u001b[0mOrange\u001b[0m\u001b[0;34m\u001b[0m\u001b[0;34m\u001b[0m\u001b[0m\n\u001b[0m\u001b[1;32m      2\u001b[0m \u001b[0;32mimport\u001b[0m \u001b[0mmatplotlib\u001b[0m\u001b[0;34m.\u001b[0m\u001b[0mpyplot\u001b[0m \u001b[0;32mas\u001b[0m \u001b[0mplt\u001b[0m\u001b[0;34m\u001b[0m\u001b[0;34m\u001b[0m\u001b[0m\n\u001b[1;32m      3\u001b[0m \u001b[0mnames\u001b[0m \u001b[0;34m=\u001b[0m \u001b[0;34m[\u001b[0m\u001b[0;34m\"EBR\"\u001b[0m\u001b[0;34m,\u001b[0m \u001b[0;34m\"ECC\"\u001b[0m\u001b[0;34m,\u001b[0m \u001b[0;34m\"EPS\"\u001b[0m\u001b[0;34m,\u001b[0m \u001b[0;34m\"RAkEL\"\u001b[0m\u001b[0;34m,\u001b[0m\u001b[0;34m\"Adaboost.MH\"\u001b[0m\u001b[0;34m,\u001b[0m\u001b[0;34m\"MLkNN\"\u001b[0m\u001b[0;34m,\u001b[0m\u001b[0;34m\"EMSTE\"\u001b[0m\u001b[0;34m]\u001b[0m\u001b[0;34m\u001b[0m\u001b[0;34m\u001b[0m\u001b[0m\n\u001b[1;32m      4\u001b[0m \u001b[0mavranks\u001b[0m \u001b[0;34m=\u001b[0m \u001b[0;34m[\u001b[0m\u001b[0;36m4.5\u001b[0m\u001b[0;34m,\u001b[0m\u001b[0;36m4.9\u001b[0m\u001b[0;34m,\u001b[0m\u001b[0;36m5.3\u001b[0m\u001b[0;34m,\u001b[0m\u001b[0;36m4.5\u001b[0m\u001b[0;34m,\u001b[0m\u001b[0;36m3.6\u001b[0m\u001b[0;34m,\u001b[0m\u001b[0;36m3.3\u001b[0m\u001b[0;34m,\u001b[0m\u001b[0;36m1.9\u001b[0m\u001b[0;34m]\u001b[0m\u001b[0;34m\u001b[0m\u001b[0;34m\u001b[0m\u001b[0m\n\u001b[1;32m      5\u001b[0m \u001b[0mcd\u001b[0m \u001b[0;34m=\u001b[0m \u001b[0mOrange\u001b[0m\u001b[0;34m.\u001b[0m\u001b[0mevaluation\u001b[0m\u001b[0;34m.\u001b[0m\u001b[0mcompute_CD\u001b[0m\u001b[0;34m(\u001b[0m\u001b[0mavranks\u001b[0m\u001b[0;34m,\u001b[0m \u001b[0;36m10\u001b[0m\u001b[0;34m,\u001b[0m\u001b[0malpha\u001b[0m\u001b[0;34m=\u001b[0m\u001b[0;34m\"0.05\"\u001b[0m\u001b[0;34m,\u001b[0m \u001b[0mtest\u001b[0m\u001b[0;34m=\u001b[0m\u001b[0;34m\"bonferroni-dunn\"\u001b[0m\u001b[0;34m)\u001b[0m \u001b[0;31m#tested on 10 datasets\u001b[0m\u001b[0;34m\u001b[0m\u001b[0;34m\u001b[0m\u001b[0m\n",
            "\u001b[0;31mModuleNotFoundError\u001b[0m: No module named 'Orange'",
            "",
            "\u001b[0;31m---------------------------------------------------------------------------\u001b[0;32m\nNOTE: If your import is failing due to a missing package, you can\nmanually install dependencies using either !pip or !apt.\n\nTo view examples of installing some common dependencies, click the\n\"Open Examples\" button below.\n\u001b[0;31m---------------------------------------------------------------------------\u001b[0m\n"
          ]
        }
      ]
    },
    {
      "cell_type": "code",
      "metadata": {
        "colab": {
          "base_uri": "https://localhost:8080/"
        },
        "id": "JgsUK8vh3pgb",
        "outputId": "caac713a-426f-442a-d49a-7844a6d2f468"
      },
      "source": [
        "!pip install Orange"
      ],
      "execution_count": null,
      "outputs": [
        {
          "output_type": "stream",
          "text": [
            "Collecting Orange\n",
            "  Downloading Orange-2.7.8.tar.gz (15.0 MB)\n",
            "\u001b[K     |████████████████████████████████| 15.0 MB 179 kB/s \n",
            "\u001b[33mWARNING: Discarding https://files.pythonhosted.org/packages/43/61/29c81c53504fb4c774eaec5218ca39f5d2625a61f0f6a52c61097be17f1c/Orange-2.7.8.tar.gz#sha256=9602d621d8258c90a8122b2ae2eb7471139836f0a16b6941e83735739913af5c (from https://pypi.org/simple/orange/). Command errored out with exit status 1: python setup.py egg_info Check the logs for full command output.\u001b[0m\n",
            "\u001b[?25h  Downloading Orange-2.7.7.tar.gz (15.0 MB)\n",
            "\u001b[K     |████████████████████████████████| 15.0 MB 160 kB/s \n",
            "\u001b[33mWARNING: Discarding https://files.pythonhosted.org/packages/e7/e9/7b406a0a74127e4bb38e21fccaf12b47b612275eb485f683847ca642e04b/Orange-2.7.7.tar.gz#sha256=d9eb748de0fbd2623b448e8113241801f94dac9a9c118f73058f2ec86208a662 (from https://pypi.org/simple/orange/). Command errored out with exit status 1: python setup.py egg_info Check the logs for full command output.\u001b[0m\n",
            "\u001b[?25h  Downloading Orange-2.7.5.zip (15.6 MB)\n",
            "\u001b[K     |████████████████████████████████| 15.6 MB 108 kB/s \n",
            "\u001b[33mWARNING: Discarding https://files.pythonhosted.org/packages/e7/2c/4e66d86e2d7a53fbf41da087a1002ad9585a2a6c2761ddc0215e32813b57/Orange-2.7.5.zip#sha256=28387f82da95f5ffebb5515e88ec60550ce32ec03710c84097960cf3d6037077 (from https://pypi.org/simple/orange/). Command errored out with exit status 1: python setup.py egg_info Check the logs for full command output.\u001b[0m\n",
            "\u001b[?25h  Downloading Orange-2.7.5.tar.gz (14.5 MB)\n",
            "\u001b[K     |████████████████████████████████| 14.5 MB 167 kB/s \n",
            "\u001b[33mWARNING: Discarding https://files.pythonhosted.org/packages/59/ba/29a37b9019564de4e03162223ee0d12e026a0d75a75ee9de34d77aeb084a/Orange-2.7.5.tar.gz#sha256=c7ebeed3d6f81d95e3be170f46d51cb708a4dab44168131fe5f111dafb2d324c (from https://pypi.org/simple/orange/). Command errored out with exit status 1: python setup.py egg_info Check the logs for full command output.\u001b[0m\n",
            "\u001b[?25h  Downloading Orange-2.7.3.zip (15.7 MB)\n",
            "\u001b[K     |████████████████████████████████| 15.7 MB 54 kB/s \n",
            "\u001b[33mWARNING: Discarding https://files.pythonhosted.org/packages/40/93/bc6310ce8acd07965c51c21c1c8ede224403a038ca512cb8aa923e7f1320/Orange-2.7.3.zip#sha256=175f89e21d2afd2bd6e94fd51a89be7ae2246f402d1cdac0e8e27b69c0c49b04 (from https://pypi.org/simple/orange/). Command errored out with exit status 1: python setup.py egg_info Check the logs for full command output.\u001b[0m\n",
            "\u001b[?25h  Downloading Orange-2.7.3.tar.gz (14.4 MB)\n",
            "\u001b[K     |████████████████████████████████| 14.4 MB 151 kB/s \n",
            "\u001b[33mWARNING: Discarding https://files.pythonhosted.org/packages/1e/b5/49ca7506139fbb6f282d17966366936f519719f2ff1f228356d0d3c7b613/Orange-2.7.3.tar.gz#sha256=f1989580c7513908096dd2c7d52e39966427ebfd5b27ce5063469b0ee1ac922c (from https://pypi.org/simple/orange/). Command errored out with exit status 1: python setup.py egg_info Check the logs for full command output.\u001b[0m\n",
            "\u001b[?25h  Downloading Orange-2.7.2.tar.gz (12.6 MB)\n",
            "\u001b[K     |████████████████████████████████| 12.6 MB 57 kB/s \n",
            "\u001b[33mWARNING: Discarding https://files.pythonhosted.org/packages/17/d3/70e8bbb3c05e75d2f7133ec52de94262a03580aa11a615df79e3f23c3a8a/Orange-2.7.2.tar.gz#sha256=02ca4f711c0d792ef5a4d5a066756d179476af73c944ee6a9e208369801e11de (from https://pypi.org/simple/orange/). Command errored out with exit status 1: python setup.py egg_info Check the logs for full command output.\u001b[0m\n",
            "\u001b[?25h  Downloading Orange-2.7.1.tar.gz (12.7 MB)\n",
            "\u001b[K     |████████████████████████████████| 12.7 MB 50 kB/s \n",
            "\u001b[33mWARNING: Discarding https://files.pythonhosted.org/packages/9b/b9/0a3a743cc8c1ac89b8a9627215bfd603831992901dc84ec7e174c3e82fda/Orange-2.7.1.tar.gz#sha256=1057e675407745d170bb8ee7e8e0a5618c4ea867a9f7f0387aeeca31f1d6fa43 (from https://pypi.org/simple/orange/). Command errored out with exit status 1: python setup.py egg_info Check the logs for full command output.\u001b[0m\n",
            "\u001b[?25h  Downloading Orange-2.7.tar.gz (13.3 MB)\n",
            "\u001b[K     |████████████████████████████████| 13.3 MB 194 kB/s \n",
            "\u001b[33mWARNING: Discarding https://files.pythonhosted.org/packages/7d/a7/cd5c54f8e7c4f1c4ae16eefc9ff837d00266f50e3d9d0d50a3374b704274/Orange-2.7.tar.gz#sha256=c2bdb02dc56640fc0debe6146d50a0b39cb75bafd99481c4c833549fa84dcec9 (from https://pypi.org/simple/orange/). Command errored out with exit status 1: python setup.py egg_info Check the logs for full command output.\u001b[0m\n",
            "\u001b[?25h  Downloading Orange-2.6.tar.gz (20.4 MB)\n",
            "\u001b[K     |████████████████████████████████| 20.4 MB 1.4 MB/s \n",
            "\u001b[33mWARNING: Discarding https://files.pythonhosted.org/packages/b8/6e/457967e0a795c1eb0a68764a354bc3fd7db7626a963f0aa19a8cbac533b1/Orange-2.6.tar.gz#sha256=2281c93e8137aabb590dc1fa4128cadb1e7fa2f722753eacea1f82da70807075 (from https://pypi.org/simple/orange/). Command errored out with exit status 1: python setup.py egg_info Check the logs for full command output.\u001b[0m\n",
            "\u001b[31mERROR: Could not find a version that satisfies the requirement Orange (from versions: 2.0.0b0, 2.0.1b0, 2.5a1, 2.5a2, 2.5a4, 2.6, 2.7, 2.7.1, 2.7.2, 2.7.3, 2.7.5, 2.7.7, 2.7.8)\u001b[0m\n",
            "\u001b[31mERROR: No matching distribution found for Orange\u001b[0m\n",
            "\u001b[?25h"
          ],
          "name": "stdout"
        }
      ]
    },
    {
      "cell_type": "code",
      "metadata": {
        "id": "5oiNvWe34mtr"
      },
      "source": [
        "avranks = np.array([4.5,4.9,5.3,4.5,3.6,3.3,1.9])"
      ],
      "execution_count": null,
      "outputs": []
    },
    {
      "cell_type": "code",
      "metadata": {
        "id": "CeYTv_xu5Fla"
      },
      "source": [
        "import pandas as pd"
      ],
      "execution_count": null,
      "outputs": []
    },
    {
      "cell_type": "code",
      "metadata": {
        "id": "wvU-dTee4u0z"
      },
      "source": [
        "avranks_df = pd.DataFrame(avranks)"
      ],
      "execution_count": null,
      "outputs": []
    },
    {
      "cell_type": "code",
      "metadata": {
        "colab": {
          "base_uri": "https://localhost:8080/",
          "height": 282
        },
        "id": "fmQCjNuF4i87",
        "outputId": "0ab2b152-56d3-4d91-c344-5c61692dec1c"
      },
      "source": [
        "res = autorank(avranks_df, alpha=0.05, verbose=False)"
      ],
      "execution_count": null,
      "outputs": [
        {
          "output_type": "error",
          "ename": "ValueError",
          "evalue": "ignored",
          "traceback": [
            "\u001b[0;31m---------------------------------------------------------------------------\u001b[0m",
            "\u001b[0;31mValueError\u001b[0m                                Traceback (most recent call last)",
            "\u001b[0;32m<ipython-input-25-aa0abc80835b>\u001b[0m in \u001b[0;36m<module>\u001b[0;34m()\u001b[0m\n\u001b[0;32m----> 1\u001b[0;31m \u001b[0mres\u001b[0m \u001b[0;34m=\u001b[0m \u001b[0mautorank\u001b[0m\u001b[0;34m(\u001b[0m\u001b[0mavranks_df\u001b[0m\u001b[0;34m,\u001b[0m \u001b[0malpha\u001b[0m\u001b[0;34m=\u001b[0m\u001b[0;36m0.05\u001b[0m\u001b[0;34m,\u001b[0m \u001b[0mverbose\u001b[0m\u001b[0;34m=\u001b[0m\u001b[0;32mFalse\u001b[0m\u001b[0;34m)\u001b[0m\u001b[0;34m\u001b[0m\u001b[0;34m\u001b[0m\u001b[0m\n\u001b[0m",
            "\u001b[0;32m/usr/local/lib/python3.7/dist-packages/autorank/autorank.py\u001b[0m in \u001b[0;36mautorank\u001b[0;34m(data, alpha, verbose, order, approach, rope, rope_mode, nsamples, effect_size)\u001b[0m\n\u001b[1;32m    187\u001b[0m         \u001b[0;32mraise\u001b[0m \u001b[0mTypeError\u001b[0m\u001b[0;34m(\u001b[0m\u001b[0;34m'data must be a pandas DataFrame'\u001b[0m\u001b[0;34m)\u001b[0m\u001b[0;34m\u001b[0m\u001b[0;34m\u001b[0m\u001b[0m\n\u001b[1;32m    188\u001b[0m     \u001b[0;32mif\u001b[0m \u001b[0mlen\u001b[0m\u001b[0;34m(\u001b[0m\u001b[0mdata\u001b[0m\u001b[0;34m.\u001b[0m\u001b[0mcolumns\u001b[0m\u001b[0;34m)\u001b[0m \u001b[0;34m<\u001b[0m \u001b[0;36m2\u001b[0m\u001b[0;34m:\u001b[0m\u001b[0;34m\u001b[0m\u001b[0;34m\u001b[0m\u001b[0m\n\u001b[0;32m--> 189\u001b[0;31m         \u001b[0;32mraise\u001b[0m \u001b[0mValueError\u001b[0m\u001b[0;34m(\u001b[0m\u001b[0;34m'requires at least two classifiers (i.e., columns)'\u001b[0m\u001b[0;34m)\u001b[0m\u001b[0;34m\u001b[0m\u001b[0;34m\u001b[0m\u001b[0m\n\u001b[0m\u001b[1;32m    190\u001b[0m     \u001b[0;32mif\u001b[0m \u001b[0mlen\u001b[0m\u001b[0;34m(\u001b[0m\u001b[0mdata\u001b[0m\u001b[0;34m)\u001b[0m \u001b[0;34m<\u001b[0m \u001b[0;36m5\u001b[0m\u001b[0;34m:\u001b[0m\u001b[0;34m\u001b[0m\u001b[0;34m\u001b[0m\u001b[0m\n\u001b[1;32m    191\u001b[0m         \u001b[0;32mraise\u001b[0m \u001b[0mValueError\u001b[0m\u001b[0;34m(\u001b[0m\u001b[0;34m'requires at least five performance estimations (i.e., rows)'\u001b[0m\u001b[0;34m)\u001b[0m\u001b[0;34m\u001b[0m\u001b[0;34m\u001b[0m\u001b[0m\n",
            "\u001b[0;31mValueError\u001b[0m: requires at least two classifiers (i.e., columns)"
          ]
        }
      ]
    }
  ]
}