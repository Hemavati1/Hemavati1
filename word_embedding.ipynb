{
  "nbformat": 4,
  "nbformat_minor": 0,
  "metadata": {
    "colab": {
      "provenance": [],
      "authorship_tag": "ABX9TyMHFC/O7V2J3p3gabthE5Fl",
      "include_colab_link": true
    },
    "kernelspec": {
      "name": "python3",
      "display_name": "Python 3"
    },
    "language_info": {
      "name": "python"
    }
  },
  "cells": [
    {
      "cell_type": "markdown",
      "metadata": {
        "id": "view-in-github",
        "colab_type": "text"
      },
      "source": [
        "<a href=\"https://colab.research.google.com/github/Hemavati1/Hemavati1/blob/main/word_embedding.ipynb\" target=\"_parent\"><img src=\"https://colab.research.google.com/assets/colab-badge.svg\" alt=\"Open In Colab\"/></a>"
      ]
    },
    {
      "cell_type": "code",
      "execution_count": 1,
      "metadata": {
        "id": "sl2cMmFsrgLZ"
      },
      "outputs": [],
      "source": [
        "#Word embedding\n",
        "from tensorflow.keras.preprocessing.text import one_hot\n"
      ]
    },
    {
      "cell_type": "code",
      "source": [
        "sent=['the glass of milk',\n",
        "      'the glass of juice',\n",
        "      'the cup of tea',\n",
        "      'I am a good boy',\n",
        "      'I am a developer',\n",
        "      'understand the meaning of words',\n",
        "      'your videos are good']\n",
        "sent"
      ],
      "metadata": {
        "colab": {
          "base_uri": "https://localhost:8080/"
        },
        "id": "LNj0c0cnr3yV",
        "outputId": "bd066ce5-0be6-4510-cc94-7f3bb96ec8b6"
      },
      "execution_count": 13,
      "outputs": [
        {
          "output_type": "execute_result",
          "data": {
            "text/plain": [
              "['the glass of milk',\n",
              " 'the glass of juice',\n",
              " 'the cup of tea',\n",
              " 'I am a good boy',\n",
              " 'I am a developer',\n",
              " 'understand the meaning of words',\n",
              " 'your videos are good']"
            ]
          },
          "metadata": {},
          "execution_count": 13
        }
      ]
    },
    {
      "cell_type": "code",
      "source": [
        "vocab_size=10000\n",
        "onehot_repr=[one_hot(words,vocab_size) for words in sent]\n",
        "onehot_repr"
      ],
      "metadata": {
        "colab": {
          "base_uri": "https://localhost:8080/"
        },
        "id": "IxaVwEQcsrI5",
        "outputId": "2c6f38e9-e868-4a24-9e99-55b0f9b846d7"
      },
      "execution_count": 14,
      "outputs": [
        {
          "output_type": "execute_result",
          "data": {
            "text/plain": [
              "[[7813, 2909, 7299, 6961],\n",
              " [7813, 2909, 7299, 4347],\n",
              " [7813, 7259, 7299, 684],\n",
              " [6655, 322, 2189, 6719, 8378],\n",
              " [6655, 322, 2189, 7572],\n",
              " [1815, 7813, 4102, 7299, 3770],\n",
              " [9398, 6627, 1437, 6719]]"
            ]
          },
          "metadata": {},
          "execution_count": 14
        }
      ]
    },
    {
      "cell_type": "code",
      "source": [
        "#word embeddig representation\n",
        "from tensorflow.keras.layers import Embedding\n",
        "from tensorflow.keras.preprocessing.sequence import pad_sequences\n",
        "from tensorflow.keras.models import Sequential\n",
        "import numpy as np\n",
        "\n",
        "sent_lenth=8\n",
        "embedded_docs=pad_sequences(onehot_repr,padding='pre',maxlen=sent_lenth)\n",
        "print(embedded_docs)"
      ],
      "metadata": {
        "colab": {
          "base_uri": "https://localhost:8080/"
        },
        "id": "mvxtTfcntN-z",
        "outputId": "e9f7ddda-6c1a-4681-e116-c8c64888c2cc"
      },
      "execution_count": 15,
      "outputs": [
        {
          "output_type": "stream",
          "name": "stdout",
          "text": [
            "[[   0    0    0    0 7813 2909 7299 6961]\n",
            " [   0    0    0    0 7813 2909 7299 4347]\n",
            " [   0    0    0    0 7813 7259 7299  684]\n",
            " [   0    0    0 6655  322 2189 6719 8378]\n",
            " [   0    0    0    0 6655  322 2189 7572]\n",
            " [   0    0    0 1815 7813 4102 7299 3770]\n",
            " [   0    0    0    0 9398 6627 1437 6719]]\n"
          ]
        }
      ]
    },
    {
      "cell_type": "code",
      "source": [
        "dim=10\n",
        "model=Sequential()\n",
        "model.add(Embedding(vocab_size, dim, input_length=sent_lenth))\n",
        "model.compile('adam','mse')\n",
        "model.summary()\n",
        "print(model.predict(embedded_docs[0]))\n",
        "embedded_docs[0]\n"
      ],
      "metadata": {
        "colab": {
          "base_uri": "https://localhost:8080/"
        },
        "id": "uvJHkxdQyQNh",
        "outputId": "9301b768-d0e4-41f4-8949-bc55fd164b9f"
      },
      "execution_count": 22,
      "outputs": [
        {
          "output_type": "stream",
          "name": "stdout",
          "text": [
            "Model: \"sequential_6\"\n",
            "_________________________________________________________________\n",
            " Layer (type)                Output Shape              Param #   \n",
            "=================================================================\n",
            " embedding_4 (Embedding)     (None, 8, 10)             100000    \n",
            "                                                                 \n",
            "=================================================================\n",
            "Total params: 100,000\n",
            "Trainable params: 100,000\n",
            "Non-trainable params: 0\n",
            "_________________________________________________________________\n",
            "1/1 [==============================] - 0s 40ms/step\n",
            "[[ 0.03642802 -0.03500498 -0.03566885  0.0186584  -0.02547686  0.01166528\n",
            "  -0.00271664 -0.01920015  0.03841386 -0.02312273]\n",
            " [ 0.03642802 -0.03500498 -0.03566885  0.0186584  -0.02547686  0.01166528\n",
            "  -0.00271664 -0.01920015  0.03841386 -0.02312273]\n",
            " [ 0.03642802 -0.03500498 -0.03566885  0.0186584  -0.02547686  0.01166528\n",
            "  -0.00271664 -0.01920015  0.03841386 -0.02312273]\n",
            " [ 0.03642802 -0.03500498 -0.03566885  0.0186584  -0.02547686  0.01166528\n",
            "  -0.00271664 -0.01920015  0.03841386 -0.02312273]\n",
            " [-0.04441822 -0.04865811  0.04144584  0.04957647 -0.00763165 -0.03672199\n",
            "  -0.01308934  0.04747137 -0.01750224  0.04057736]\n",
            " [-0.02628436  0.00260822 -0.01227235 -0.0347327  -0.01376414 -0.00855827\n",
            "  -0.0012541  -0.00310235 -0.03271534 -0.03724893]\n",
            " [ 0.00471444  0.04901985  0.03241649 -0.04673407  0.00256012 -0.00073689\n",
            "   0.02333787  0.04853621  0.02406296 -0.02213904]\n",
            " [-0.0215214   0.02256047  0.04659196  0.02473775 -0.0040535   0.00426935\n",
            "   0.02010443  0.03956116 -0.03055681  0.01630458]]\n"
          ]
        },
        {
          "output_type": "execute_result",
          "data": {
            "text/plain": [
              "array([   0,    0,    0,    0, 7813, 2909, 7299, 6961], dtype=int32)"
            ]
          },
          "metadata": {},
          "execution_count": 22
        }
      ]
    }
  ]
}