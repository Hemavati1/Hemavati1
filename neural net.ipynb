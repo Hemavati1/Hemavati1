{
  "nbformat": 4,
  "nbformat_minor": 0,
  "metadata": {
    "colab": {
      "provenance": [],
      "authorship_tag": "ABX9TyO655n2lj18MBM7NSlftb0f",
      "include_colab_link": true
    },
    "kernelspec": {
      "name": "python3",
      "display_name": "Python 3"
    },
    "language_info": {
      "name": "python"
    }
  },
  "cells": [
    {
      "cell_type": "markdown",
      "metadata": {
        "id": "view-in-github",
        "colab_type": "text"
      },
      "source": [
        "<a href=\"https://colab.research.google.com/github/Hemavati1/Hemavati1/blob/main/neural%20net.ipynb\" target=\"_parent\"><img src=\"https://colab.research.google.com/assets/colab-badge.svg\" alt=\"Open In Colab\"/></a>"
      ]
    },
    {
      "cell_type": "code",
      "execution_count": null,
      "metadata": {
        "colab": {
          "base_uri": "https://localhost:8080/"
        },
        "id": "V4WQFf72QG5U",
        "outputId": "68b8158f-89d9-4f28-9e66-88290472d7b9"
      },
      "outputs": [
        {
          "output_type": "stream",
          "name": "stdout",
          "text": [
            "enter n22\n",
            "22\n"
          ]
        }
      ],
      "source": [
        "n=int(input(\"enter n\"))\n",
        "t=n\n",
        "sum=0\n",
        "while(n!=0):\n",
        "  d=n%10\n",
        "  sum=sum*10+d\n",
        "  n=n//10\n",
        "print(sum)"
      ]
    },
    {
      "cell_type": "code",
      "source": [
        "import tensorflow\n",
        "import pandas as pd\n",
        "import numpy as np\n",
        "import matplotlib.pyplot as plt\n",
        "\n",
        "\n",
        "dataset=pd.read_csv('/content/Churn_Modelling.csv')\n",
        "dataset.head()\n",
        "dataset.columns\n",
        "X=dataset.iloc[:,3:13]\n",
        "y=dataset.iloc[:,13]\n",
        "print(y)\n",
        "#create dummy variables\n",
        "geography=pd.get_dummies(X[\"Geography\"], drop_first=True)\n",
        "gender=pd.get_dummies(X[\"Gender\"], drop_first=True)\n",
        "\n",
        "X=pd.concat([X,geography,gender],axis=1)\n",
        "X=X.drop(['Geography','Gender'],axis=1)"
      ],
      "metadata": {
        "colab": {
          "base_uri": "https://localhost:8080/"
        },
        "id": "_ydRL7gj7YHc",
        "outputId": "d342d8d0-b092-4998-97be-058c7ab8643e"
      },
      "execution_count": 100,
      "outputs": [
        {
          "output_type": "stream",
          "name": "stdout",
          "text": [
            "0       1\n",
            "1       0\n",
            "2       1\n",
            "3       0\n",
            "4       0\n",
            "       ..\n",
            "9995    0\n",
            "9996    0\n",
            "9997    1\n",
            "9998    1\n",
            "9999    0\n",
            "Name: Exited, Length: 10000, dtype: int64\n"
          ]
        }
      ]
    },
    {
      "cell_type": "code",
      "source": [
        "from sklearn.model_selection import train_test_split\n",
        "X_train, X_test, Y_train,  Y_test= train_test_split(X,y,test_size=0.2,random_state=0)\n",
        "\n",
        "#Feature Scaling\n",
        "from sklearn.preprocessing import StandardScaler\n",
        "sc=StandardScaler()\n",
        "print(Y_test)\n",
        "\n",
        "X_train=sc.fit_transform(X_train)\n",
        "X_test=sc.transform(X_test)\n",
        "\n",
        "#importing keras libraries and packages\n",
        "from keras.models import Sequential\n",
        "from keras.layers import Dense\n",
        "from keras.layers import LeakyReLU, PReLU,ELU\n",
        "from keras.layers import Dropout\n",
        "\n",
        "#initialize\n",
        "classifier=Sequential()\n",
        "\n",
        "#adding the input layer and first hidden layer\n",
        "classifier.add(Dense(units= 6, activation ='relu', input_dim = 11))\n",
        "\n",
        "#second hidden layer\n",
        "classifier.add(Dense(units= 6, activation ='relu'))\n",
        "\n",
        "#adding outputlayer\n",
        "classifier.add(Dense(units=1, activation='sigmoid'))\n",
        "\n",
        "#classifier.summary()\n",
        "classifier.compile(optimizer='adamax', loss='binary_crossentropy', metrics = ['accuracy'])\n",
        "print(Y_train)\n",
        "model_history = classifier.fit(X_train, Y_train, validation_split=0.33, batch_size=10, epochs=100)\n",
        "\n"
      ],
      "metadata": {
        "colab": {
          "base_uri": "https://localhost:8080/"
        },
        "id": "EZJ43q3DEnpd",
        "outputId": "e5fab7e4-50eb-499b-fb5f-6ad97fc7884a"
      },
      "execution_count": null,
      "outputs": [
        {
          "output_type": "stream",
          "name": "stdout",
          "text": [
            "9394    0\n",
            "898     1\n",
            "2398    0\n",
            "5906    0\n",
            "2343    0\n",
            "       ..\n",
            "1037    0\n",
            "2899    0\n",
            "9549    0\n",
            "2740    0\n",
            "6690    0\n",
            "Name: Exited, Length: 2000, dtype: int64\n",
            "7389    0\n",
            "9275    0\n",
            "2995    0\n",
            "5316    0\n",
            "356     0\n",
            "       ..\n",
            "9225    0\n",
            "4859    0\n",
            "3264    0\n",
            "9845    0\n",
            "2732    1\n",
            "Name: Exited, Length: 8000, dtype: int64\n",
            "Epoch 1/100\n",
            "536/536 [==============================] - 3s 4ms/step - loss: 0.6086 - accuracy: 0.7328 - val_loss: 0.5402 - val_accuracy: 0.7925\n",
            "Epoch 2/100\n",
            "536/536 [==============================] - 2s 4ms/step - loss: 0.5169 - accuracy: 0.7957 - val_loss: 0.5017 - val_accuracy: 0.7955\n",
            "Epoch 3/100\n",
            "536/536 [==============================] - 2s 3ms/step - loss: 0.4923 - accuracy: 0.7962 - val_loss: 0.4871 - val_accuracy: 0.7959\n",
            "Epoch 4/100\n",
            "536/536 [==============================] - 1s 2ms/step - loss: 0.4774 - accuracy: 0.7966 - val_loss: 0.4754 - val_accuracy: 0.7967\n",
            "Epoch 5/100\n",
            "137/536 [======>.......................] - ETA: 0s - loss: 0.4624 - accuracy: 0.7993"
          ]
        }
      ]
    }
  ]
}