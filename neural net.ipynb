{
  "nbformat": 4,
  "nbformat_minor": 0,
  "metadata": {
    "colab": {
      "provenance": [],
      "authorship_tag": "ABX9TyMkkFFLJIJV77s3AaRI9UIP",
      "include_colab_link": true
    },
    "kernelspec": {
      "name": "python3",
      "display_name": "Python 3"
    },
    "language_info": {
      "name": "python"
    }
  },
  "cells": [
    {
      "cell_type": "markdown",
      "metadata": {
        "id": "view-in-github",
        "colab_type": "text"
      },
      "source": [
        "<a href=\"https://colab.research.google.com/github/Hemavati1/Hemavati1/blob/main/neural%20net.ipynb\" target=\"_parent\"><img src=\"https://colab.research.google.com/assets/colab-badge.svg\" alt=\"Open In Colab\"/></a>"
      ]
    },
    {
      "cell_type": "code",
      "execution_count": null,
      "metadata": {
        "colab": {
          "base_uri": "https://localhost:8080/"
        },
        "id": "V4WQFf72QG5U",
        "outputId": "68b8158f-89d9-4f28-9e66-88290472d7b9"
      },
      "outputs": [
        {
          "output_type": "stream",
          "name": "stdout",
          "text": [
            "enter n22\n",
            "22\n"
          ]
        }
      ],
      "source": [
        "n=int(input(\"enter n\"))\n",
        "t=n\n",
        "sum=0\n",
        "while(n!=0):\n",
        "  d=n%10\n",
        "  sum=sum*10+d\n",
        "  n=n//10\n",
        "print(sum)"
      ]
    },
    {
      "cell_type": "code",
      "source": [
        "import tensorflow\n",
        "import pandas as pd\n",
        "import numpy as np\n",
        "import matplotlib.pyplot as plt\n",
        "\n",
        "\n",
        "dataset=pd.read_csv('/content/Churn_Modelling.csv')\n",
        "dataset.head()\n",
        "dataset.columns\n",
        "X=dataset.iloc[:,3:13]\n",
        "y=dataset.iloc[:,13]\n",
        "print(y)\n",
        "#create dummy variables\n",
        "geography=pd.get_dummies(X[\"Geography\"], drop_first=True)\n",
        "gender=pd.get_dummies(X[\"Gender\"], drop_first=True)\n",
        "\n",
        "X=pd.concat([X,geography,gender],axis=1)\n",
        "X=X.drop(['Geography','Gender'],axis=1)"
      ],
      "metadata": {
        "colab": {
          "base_uri": "https://localhost:8080/"
        },
        "id": "_ydRL7gj7YHc",
        "outputId": "d342d8d0-b092-4998-97be-058c7ab8643e"
      },
      "execution_count": 100,
      "outputs": [
        {
          "output_type": "stream",
          "name": "stdout",
          "text": [
            "0       1\n",
            "1       0\n",
            "2       1\n",
            "3       0\n",
            "4       0\n",
            "       ..\n",
            "9995    0\n",
            "9996    0\n",
            "9997    1\n",
            "9998    1\n",
            "9999    0\n",
            "Name: Exited, Length: 10000, dtype: int64\n"
          ]
        }
      ]
    },
    {
      "cell_type": "code",
      "source": [
        "from sklearn.model_selection import train_test_split\n",
        "X_train, X_test, Y_train,  Y_test= train_test_split(X,y,test_size=0.2,random_state=0)\n",
        "\n",
        "#Feature Scaling\n",
        "from sklearn.preprocessing import StandardScaler\n",
        "sc=StandardScaler()\n",
        "#print(Y_test)\n",
        "\n",
        "X_train=sc.fit_transform(X_train)\n",
        "X_test=sc.transform(X_test)\n",
        "\n",
        "#importing keras libraries and packages\n",
        "from keras.models import Sequential\n",
        "from keras.layers import Dense\n",
        "from keras.layers import LeakyReLU, PReLU,ELU\n",
        "from keras.layers import Dropout\n",
        "\n",
        "#initialize\n",
        "classifier=Sequential()\n",
        "\n",
        "#adding the input layer and first hidden layer\n",
        "classifier.add(Dense(units= 6, activation ='relu', input_dim = 11))\n",
        "\n",
        "#second hidden layer\n",
        "classifier.add(Dense(units= 6, activation ='relu'))\n",
        "\n",
        "#adding outputlayer\n",
        "classifier.add(Dense(units=1, activation='sigmoid'))\n",
        "\n",
        "#classifier.summary()\n",
        "classifier.compile(optimizer='adamax', loss='binary_crossentropy', metrics = ['accuracy'])\n",
        "print(Y_train)\n",
        "model_history = classifier.fit(X_train, Y_train, validation_split=0.33, batch_size=10, epochs=100)\n",
        "\n",
        "\n",
        "\n"
      ],
      "metadata": {
        "id": "EZJ43q3DEnpd"
      },
      "execution_count": null,
      "outputs": []
    },
    {
      "cell_type": "code",
      "source": [
        "print(model_history.history.keys())\n",
        "\n",
        "plt.plot(model_history.history['accuracy'])\n",
        "plt.plot(model_history.history['val_accuracy'])\n",
        "plt.title('accuracy')\n",
        "plt.xlabel('accuracy')\n",
        "plt.ylabel('epoch')\n",
        "plt.legend(['train','test'],loc='upper left')\n",
        "plt.show()"
      ],
      "metadata": {
        "colab": {
          "base_uri": "https://localhost:8080/",
          "height": 489
        },
        "id": "Kj5QGs6C5D8n",
        "outputId": "79d32e45-5b9e-4d2c-a1bd-4c81e50b39ce"
      },
      "execution_count": 113,
      "outputs": [
        {
          "output_type": "stream",
          "name": "stdout",
          "text": [
            "dict_keys(['loss', 'accuracy', 'val_loss', 'val_accuracy'])\n"
          ]
        },
        {
          "output_type": "display_data",
          "data": {
            "text/plain": [
              "<Figure size 640x480 with 1 Axes>"
            ],
            "image/png": "[encoded data removed]"
          },
          "metadata": {}
        }
      ]
    },
    {
      "cell_type": "code",
      "source": [
        "\n",
        "#predicting the result\n",
        "y_pred=classifier.predict(X_test)\n",
        "y_pred=(y_pred>0.5)\n",
        "\n",
        "#confusion matrix\n",
        "from sklearn.metrics import confusion_matrix\n",
        "from sklearn.metrics import accuracy_score\n",
        "cm=confusion_matrix(Y_test,y_pred)\n",
        "score=accuracy_score(y_pred,Y_test)\n",
        "print(score)"
      ],
      "metadata": {
        "colab": {
          "base_uri": "https://localhost:8080/"
        },
        "id": "uIIyAp-t6ysl",
        "outputId": "f6c97353-dc92-472b-d980-2605629aa94d"
      },
      "execution_count": 122,
      "outputs": [
        {
          "output_type": "stream",
          "name": "stdout",
          "text": [
            "63/63 [==============================] - 0s 6ms/step\n",
            "0.8565\n"
          ]
        }
      ]
    }
  ]
}