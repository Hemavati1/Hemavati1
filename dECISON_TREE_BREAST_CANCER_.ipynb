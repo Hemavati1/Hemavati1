{
  "nbformat": 4,
  "nbformat_minor": 0,
  "metadata": {
    "colab": {
      "name": "dECISON_TREE_BREAST_CANCER .ipynb",
      "provenance": [],
      "collapsed_sections": []
    },
    "kernelspec": {
      "name": "python3",
      "display_name": "Python 3"
    },
    "language_info": {
      "name": "python"
    }
  },
  "cells": [
    {
      "cell_type": "code",
      "metadata": {
        "id": "i_B35ohUFv_O"
      },
      "source": [
        "import numpy as np\n",
        "import pandas as pd\n",
        "\n",
        "from sklearn.datasets import load_breast_cancer;\n",
        "\n",
        "cancer = load_breast_cancer();\n",
        "X = cancer.data;\n",
        "y = cancer.target;\n",
        "\n",
        "#data = np.c_[cancer.data, cancer.target];\n",
        "#columns = np.append(cancer.feature_names, [\"target\"]);\n",
        "\n",
        "#cancer.df = pd.DataFrame(data, columns = columns);\n",
        "#print(cancer.df.head());\n",
        "#print(\"\\ncancer.df.shape = \",cancer.df.shape);\n"
      ],
      "execution_count": 1,
      "outputs": []
    },
    {
      "cell_type": "markdown",
      "metadata": {
        "id": "kcnfg47KGahx"
      },
      "source": [
        "# **bold text**\n",
        "Decision Tree Classification on Breast Cancer Dataset"
      ]
    },
    {
      "cell_type": "markdown",
      "metadata": {
        "id": "kqs5gW5gIOAy"
      },
      "source": [
        "1. Divide the data into train (80%) and test (20%)"
      ]
    },
    {
      "cell_type": "code",
      "metadata": {
        "colab": {
          "base_uri": "https://localhost:8080/"
        },
        "id": "9b5_7TDZJ45l",
        "outputId": "9adc560d-9c5e-4e1d-fba9-e5235f784d4b"
      },
      "source": [
        "from sklearn.model_selection import train_test_split;\n",
        "\n",
        "X_train , X_test, y_train, y_test = train_test_split(X,\n",
        "                                                     y,\n",
        "                                                     test_size = 0.2,\n",
        "                                                     random_state = 0);\n",
        "\n",
        "print(X_train.shape);\n",
        "print(y_train.shape);\n",
        "print(\"\\r\\n\");\n",
        "print(X_test.shape);\n",
        "print(y_test.shape);\n"
      ],
      "execution_count": 3,
      "outputs": [
        {
          "output_type": "stream",
          "text": [
            "(455, 30)\n",
            "(455,)\n",
            "\r\n",
            "\n",
            "(114, 30)\n",
            "(114,)\n"
          ],
          "name": "stdout"
        }
      ]
    },
    {
      "cell_type": "markdown",
      "metadata": {
        "id": "Uz04Lr0uKLAs"
      },
      "source": [
        "2. Decision Tree Classifier using all the features of the data. Model tested on the test data"
      ]
    },
    {
      "cell_type": "code",
      "metadata": {
        "colab": {
          "base_uri": "https://localhost:8080/"
        },
        "id": "xu9rhbmDKSg7",
        "outputId": "4347305f-eb03-4005-d763-14c3383b8819"
      },
      "source": [
        "from sklearn.tree import DecisionTreeClassifier;\n",
        "\n",
        "tree = DecisionTreeClassifier(criterion    =  'entropy',\n",
        "                              max_depth    =  3,\n",
        "                              random_state =  0 );\n",
        "tree.fit(X_train, y_train)\n"
      ],
      "execution_count": 4,
      "outputs": [
        {
          "output_type": "execute_result",
          "data": {
            "text/plain": [
              "DecisionTreeClassifier(ccp_alpha=0.0, class_weight=None, criterion='entropy',\n",
              "                       max_depth=3, max_features=None, max_leaf_nodes=None,\n",
              "                       min_impurity_decrease=0.0, min_impurity_split=None,\n",
              "                       min_samples_leaf=1, min_samples_split=2,\n",
              "                       min_weight_fraction_leaf=0.0, presort='deprecated',\n",
              "                       random_state=0, splitter='best')"
            ]
          },
          "metadata": {},
          "execution_count": 4
        }
      ]
    },
    {
      "cell_type": "code",
      "metadata": {
        "colab": {
          "base_uri": "https://localhost:8080/",
          "height": 474
        },
        "id": "c5TxiSyTKmhy",
        "outputId": "78768c68-1f3f-43e8-bd68-ac5119e3c4d1"
      },
      "source": [
        "from sklearn.tree import plot_tree;\n",
        "\n",
        "plot_tree(tree,\n",
        "          feature_names = cancer.feature_names,\n",
        "          fontsize      = 7 )\n"
      ],
      "execution_count": 5,
      "outputs": [
        {
          "output_type": "execute_result",
          "data": {
            "text/plain": [
              "[Text(193.15384615384616, 190.26, 'worst concave points <= 0.142\\nentropy = 0.945\\nsamples = 455\\nvalue = [165, 290]'),\n",
              " Text(103.01538461538462, 135.9, 'worst perimeter <= 107.75\\nentropy = 0.399\\nsamples = 303\\nvalue = [24, 279]'),\n",
              " Text(51.50769230769231, 81.53999999999999, 'symmetry error <= 0.016\\nentropy = 0.133\\nsamples = 269\\nvalue = [5, 264]'),\n",
              " Text(25.753846153846155, 27.180000000000007, 'entropy = 0.337\\nsamples = 80\\nvalue = [5, 75]'),\n",
              " Text(77.26153846153846, 27.180000000000007, 'entropy = 0.0\\nsamples = 189\\nvalue = [0, 189]'),\n",
              " Text(154.52307692307693, 81.53999999999999, 'worst texture <= 20.22\\nentropy = 0.99\\nsamples = 34\\nvalue = [19, 15]'),\n",
              " Text(128.76923076923077, 27.180000000000007, 'entropy = 0.0\\nsamples = 11\\nvalue = [0, 11]'),\n",
              " Text(180.27692307692308, 27.180000000000007, 'entropy = 0.667\\nsamples = 23\\nvalue = [19, 4]'),\n",
              " Text(283.2923076923077, 135.9, 'worst perimeter <= 112.8\\nentropy = 0.375\\nsamples = 152\\nvalue = [141, 11]'),\n",
              " Text(257.53846153846155, 81.53999999999999, 'worst texture <= 27.575\\nentropy = 0.948\\nsamples = 30\\nvalue = [19, 11]'),\n",
              " Text(231.7846153846154, 27.180000000000007, 'entropy = 0.964\\nsamples = 18\\nvalue = [7, 11]'),\n",
              " Text(283.2923076923077, 27.180000000000007, 'entropy = 0.0\\nsamples = 12\\nvalue = [12, 0]'),\n",
              " Text(309.04615384615386, 81.53999999999999, 'entropy = 0.0\\nsamples = 122\\nvalue = [122, 0]')]"
            ]
          },
          "metadata": {},
          "execution_count": 5
        },
        {
          "output_type": "display_data",
          "data": {
            "image/png": "[encoded data removed]",
            "text/plain": [
              "<Figure size 432x288 with 1 Axes>"
            ]
          },
          "metadata": {
            "needs_background": "light"
          }
        }
      ]
    },
    {
      "cell_type": "code",
      "metadata": {
        "colab": {
          "base_uri": "https://localhost:8080/"
        },
        "id": "h4nQPXAuKtI8",
        "outputId": "dce3f0ba-85de-4737-dd06-19ae7b83e9b5"
      },
      "source": [
        "from sklearn.metrics import accuracy_score;\n",
        "y_pred_train = tree.predict(X_train);\n",
        "print(\"Train Set Accuracy : \", accuracy_score(y_train, y_pred_train))\n",
        "y_pred_test = tree.predict(X_test);\n",
        "print(\"Test Set Accuracy  : \", accuracy_score(y_test, y_pred_test))"
      ],
      "execution_count": 6,
      "outputs": [
        {
          "output_type": "stream",
          "text": [
            "Train Set Accuracy :  0.9648351648351648\n",
            "Test Set Accuracy  :  0.9473684210526315\n"
          ],
          "name": "stdout"
        }
      ]
    },
    {
      "cell_type": "markdown",
      "metadata": {
        "id": "_gNzRrurK10Y"
      },
      "source": [
        "3. Model Run for trees of depth 1, 2, 3, 4, 5, and 6 and for the Gini Impurity and Entropy impurity measures for each tree depth\n",
        "\n",
        "depth1\n"
      ]
    },
    {
      "cell_type": "code",
      "metadata": {
        "id": "4Xxph9lWKtKK"
      },
      "source": [
        "# GINI IMPURITY\n",
        "tree_gin_d1 = DecisionTreeClassifier(criterion    =  'gini',\n",
        "                                     max_depth    =  1,\n",
        "                                     random_state =  0 );\n",
        "tree_gin_d1.fit(X_train, y_train)\n",
        "\n",
        "y_pred_train_gin_d1 = tree_gin_d1.predict(X_train);\n",
        "y_pred_test_gin_d1  = tree_gin_d1.predict(X_test);\n",
        "\n",
        "\n",
        "# ENTROPY IMPURITY\n",
        "tree_ent_d1 = DecisionTreeClassifier(criterion    =  'entropy',\n",
        "                                     max_depth    =  1,\n",
        "                                     random_state =  0 );\n",
        "tree_ent_d1.fit(X_train, y_train)\n",
        "\n",
        "y_pred_train_ent_d1 = tree_ent_d1.predict(X_train);\n",
        "y_pred_test_ent_d1  = tree_ent_d1.predict(X_test);"
      ],
      "execution_count": 12,
      "outputs": []
    },
    {
      "cell_type": "markdown",
      "metadata": {
        "id": "tgQlseU6LbWl"
      },
      "source": [
        "depth2"
      ]
    },
    {
      "cell_type": "code",
      "metadata": {
        "id": "RRWzL_D5KtLu"
      },
      "source": [
        "# GINI IMPURITY\n",
        "tree_gin_d2 = DecisionTreeClassifier(criterion    =  'gini',\n",
        "                                     max_depth    =  2,\n",
        "                                     random_state =  0);\n",
        "tree_gin_d2.fit(X_train, y_train)\n",
        "\n",
        "y_pred_train_gin_d2 = tree_gin_d2.predict(X_train);\n",
        "y_pred_test_gin_d2  = tree_gin_d2.predict(X_test);\n",
        "\n",
        "\n",
        "# ENTROPY IMPURITY\n",
        "tree_ent_d2 = DecisionTreeClassifier(criterion    =  'entropy',\n",
        "                                     max_depth    =  2,\n",
        "                                     random_state =  0 );\n",
        "tree_ent_d2.fit(X_train, y_train)\n",
        "\n",
        "y_pred_train_ent_d2 = tree_ent_d2.predict(X_train);\n",
        "y_pred_test_ent_d2  = tree_ent_d2.predict(X_test);\n"
      ],
      "execution_count": 13,
      "outputs": []
    },
    {
      "cell_type": "markdown",
      "metadata": {
        "id": "tipvpgh2Lpn4"
      },
      "source": [
        "depth3"
      ]
    },
    {
      "cell_type": "code",
      "metadata": {
        "id": "5hQJhW_SLrkC"
      },
      "source": [
        "# GINI IMPURITY\n",
        "tree_gin_d3 = DecisionTreeClassifier(criterion    =  'gini',\n",
        "                                     max_depth    =  3,\n",
        "                                     random_state =  0 );\n",
        "tree_gin_d3.fit(X_train, y_train)\n",
        "\n",
        "y_pred_train_gin_d3 = tree_gin_d3.predict(X_train);\n",
        "y_pred_test_gin_d3  = tree_gin_d3.predict(X_test);\n",
        "\n",
        "\n",
        "# ENTROPY IMPURITY\n",
        "tree_ent_d3 = DecisionTreeClassifier(criterion    =  'entropy',\n",
        "                                     max_depth    =  3,\n",
        "                                     random_state =  0 );\n",
        "tree_ent_d3.fit(X_train, y_train)\n",
        "\n",
        "y_pred_train_ent_d3 = tree_ent_d3.predict(X_train);\n",
        "y_pred_test_ent_d3  = tree_ent_d3.predict(X_test);"
      ],
      "execution_count": 14,
      "outputs": []
    },
    {
      "cell_type": "markdown",
      "metadata": {
        "id": "r2oBQbH2LwOY"
      },
      "source": [
        "depth4"
      ]
    },
    {
      "cell_type": "code",
      "metadata": {
        "id": "hugDTAmrL0bM"
      },
      "source": [
        "# GINI IMPURITY\n",
        "tree_gin_d4 = DecisionTreeClassifier(criterion    =  'gini',\n",
        "                                     max_depth    =  4,\n",
        "                                     random_state =  0 );\n",
        "tree_gin_d4.fit(X_train, y_train)\n",
        "\n",
        "y_pred_train_gin_d4 = tree_gin_d4.predict(X_train);\n",
        "y_pred_test_gin_d4  = tree_gin_d4.predict(X_test);\n",
        "\n",
        "\n",
        "# ENTROPY IMPURITY\n",
        "tree_ent_d4 = DecisionTreeClassifier(criterion    =  'entropy',\n",
        "                                     max_depth    =  4,\n",
        "                                     random_state =  0 );\n",
        "tree_ent_d4.fit(X_train, y_train)\n",
        "\n",
        "y_pred_train_ent_d4 = tree_ent_d4.predict(X_train);\n",
        "y_pred_test_ent_d4  = tree_ent_d4.predict(X_test);"
      ],
      "execution_count": 15,
      "outputs": []
    },
    {
      "cell_type": "markdown",
      "metadata": {
        "id": "op3VsO-AL2s2"
      },
      "source": [
        ""
      ]
    },
    {
      "cell_type": "markdown",
      "metadata": {
        "id": "uOETS1bNL2uW"
      },
      "source": [
        "depth5"
      ]
    },
    {
      "cell_type": "code",
      "metadata": {
        "id": "PBh1x5CjL0cT"
      },
      "source": [
        "# GINI IMPURITY\n",
        "tree_gin_d5 = DecisionTreeClassifier(criterion    =  'gini',\n",
        "                                     max_depth    =  5,\n",
        "                                     random_state =  0 );\n",
        "tree_gin_d5.fit(X_train, y_train)\n",
        "\n",
        "y_pred_train_gin_d5 = tree_gin_d5.predict(X_train);\n",
        "y_pred_test_gin_d5  = tree_gin_d5.predict(X_test);\n",
        "\n",
        "\n",
        "# ENTROPY IMPURITY\n",
        "tree_ent_d5 = DecisionTreeClassifier(criterion    =  'entropy',\n",
        "                                     max_depth    =  5,\n",
        "                                     random_state =  0 );\n",
        "tree_ent_d5.fit(X_train, y_train)\n",
        "\n",
        "y_pred_train_ent_d5 = tree_ent_d5.predict(X_train);\n",
        "y_pred_test_ent_d5  = tree_ent_d5.predict(X_test);"
      ],
      "execution_count": 16,
      "outputs": []
    },
    {
      "cell_type": "markdown",
      "metadata": {
        "id": "Evlxw4L0MJ7d"
      },
      "source": [
        ""
      ]
    },
    {
      "cell_type": "markdown",
      "metadata": {
        "id": "CHaIlFF1MJ-C"
      },
      "source": [
        "depth6"
      ]
    },
    {
      "cell_type": "code",
      "metadata": {
        "id": "YogacYiWL0dX"
      },
      "source": [
        "# GINI IMPURITY\n",
        "tree_gin_d6 = DecisionTreeClassifier(criterion    =  'gini',\n",
        "                                     max_depth    =  6,\n",
        "                                     random_state =  0 );\n",
        "tree_gin_d6.fit(X_train, y_train)\n",
        "\n",
        "y_pred_train_gin_d6 = tree_gin_d6.predict(X_train);\n",
        "y_pred_test_gin_d6  = tree_gin_d6.predict(X_test);\n",
        "\n",
        "\n",
        "# ENTROPY IMPURITY\n",
        "tree_ent_d6 = DecisionTreeClassifier(criterion    =  'entropy',\n",
        "                                     max_depth    =  6,\n",
        "                                     random_state =  0 );\n",
        "tree_ent_d6.fit(X_train, y_train)\n",
        "\n",
        "y_pred_train_ent_d6 = tree_ent_d6.predict(X_train);\n",
        "y_pred_test_ent_d6  = tree_ent_d6.predict(X_test);"
      ],
      "execution_count": 17,
      "outputs": []
    },
    {
      "cell_type": "markdown",
      "metadata": {
        "id": "crbGufbMNIXM"
      },
      "source": [
        "comparison"
      ]
    },
    {
      "cell_type": "code",
      "metadata": {
        "colab": {
          "base_uri": "https://localhost:8080/"
        },
        "id": "wBWpf_FiNHM6",
        "outputId": "5c4d63ce-4155-46f8-d75b-242733e5e4a0"
      },
      "source": [
        "print(\"\\r\\nDEPTH = 1\");\n",
        "print(\"\\tGINI : \");\n",
        "print(\"\\t\\tTrain Set Accuracy : \", accuracy_score(y_train, y_pred_train_gin_d1));\n",
        "print(\"\\t\\tTest Set Accuracy  : \", accuracy_score(y_test, y_pred_test_gin_d1));\n",
        "print(\"\\tENTROPY : \");\n",
        "print(\"\\t\\tTrain Set Accuracy : \", accuracy_score(y_train, y_pred_train_ent_d1));\n",
        "print(\"\\t\\tTest Set Accuracy  : \", accuracy_score(y_test, y_pred_test_ent_d1));\n",
        "\n",
        "print(\"\\r\\nDEPTH = 2\");\n",
        "print(\"\\tGINI : \");\n",
        "print(\"\\t\\tTrain Set Accuracy : \", accuracy_score(y_train, y_pred_train_gin_d2));\n",
        "print(\"\\t\\tTest Set Accuracy  : \", accuracy_score(y_test, y_pred_test_gin_d2));\n",
        "print(\"\\tENTROPY : \");\n",
        "print(\"\\t\\tTrain Set Accuracy : \", accuracy_score(y_train, y_pred_train_ent_d2));\n",
        "print(\"\\t\\tTest Set Accuracy  : \", accuracy_score(y_test, y_pred_test_ent_d2));\n",
        "\n",
        "print(\"\\r\\nDEPTH = 3\");\n",
        "print(\"\\tGINI : \");\n",
        "print(\"\\t\\tTrain Set Accuracy : \", accuracy_score(y_train, y_pred_train_gin_d3));\n",
        "print(\"\\t\\tTest Set Accuracy  : \", accuracy_score(y_test, y_pred_test_gin_d3));\n",
        "print(\"\\tENTROPY : \");\n",
        "print(\"\\t\\tTrain Set Accuracy : \", accuracy_score(y_train, y_pred_train_ent_d3));\n",
        "print(\"\\t\\tTest Set Accuracy  : \", accuracy_score(y_test, y_pred_test_ent_d3));\n",
        "\n",
        "print(\"\\r\\nDEPTH = 4\");\n",
        "print(\"\\tGINI : \");\n",
        "print(\"\\t\\tTrain Set Accuracy : \", accuracy_score(y_train, y_pred_train_gin_d4));\n",
        "print(\"\\t\\tTest Set Accuracy  : \", accuracy_score(y_test, y_pred_test_gin_d4));\n",
        "print(\"\\tENTROPY : \");\n",
        "print(\"\\t\\tTrain Set Accuracy : \", accuracy_score(y_train, y_pred_train_ent_d4));\n",
        "print(\"\\t\\tTest Set Accuracy  : \", accuracy_score(y_test, y_pred_test_ent_d4));\n",
        "\n",
        "print(\"\\r\\nDEPTH = 5\");\n",
        "print(\"\\tGINI : \");\n",
        "print(\"\\t\\tTrain Set Accuracy : \", accuracy_score(y_train, y_pred_train_gin_d5));\n",
        "print(\"\\t\\tTest Set Accuracy  : \", accuracy_score(y_test, y_pred_test_gin_d5));\n",
        "print(\"\\tENTROPY : \");\n",
        "print(\"\\t\\tTrain Set Accuracy : \", accuracy_score(y_train, y_pred_train_ent_d5));\n",
        "print(\"\\t\\tTest Set Accuracy  : \", accuracy_score(y_test, y_pred_test_ent_d5));\n",
        "\n",
        "print(\"\\r\\nDEPTH = 6\");\n",
        "print(\"\\tGINI : \");\n",
        "print(\"\\t\\tTrain Set Accuracy : \", accuracy_score(y_train, y_pred_train_gin_d6));\n",
        "print(\"\\t\\tTest Set Accuracy  : \", accuracy_score(y_test, y_pred_test_gin_d6));\n",
        "print(\"\\tENTROPY : \");\n",
        "print(\"\\t\\tTrain Set Accuracy : \", accuracy_score(y_train, y_pred_train_ent_d6));\n",
        "print(\"\\t\\tTest Set Accuracy  : \", accuracy_score(y_test, y_pred_test_ent_d6));"
      ],
      "execution_count": 18,
      "outputs": [
        {
          "output_type": "stream",
          "text": [
            "\r\n",
            "DEPTH = 1\n",
            "\tGINI : \n",
            "\t\tTrain Set Accuracy :  0.9230769230769231\n",
            "\t\tTest Set Accuracy  :  0.9035087719298246\n",
            "\tENTROPY : \n",
            "\t\tTrain Set Accuracy :  0.9230769230769231\n",
            "\t\tTest Set Accuracy  :  0.9035087719298246\n",
            "\r\n",
            "DEPTH = 2\n",
            "\tGINI : \n",
            "\t\tTrain Set Accuracy :  0.9516483516483516\n",
            "\t\tTest Set Accuracy  :  0.9649122807017544\n",
            "\tENTROPY : \n",
            "\t\tTrain Set Accuracy :  0.9318681318681319\n",
            "\t\tTest Set Accuracy  :  0.9210526315789473\n",
            "\r\n",
            "DEPTH = 3\n",
            "\tGINI : \n",
            "\t\tTrain Set Accuracy :  0.9714285714285714\n",
            "\t\tTest Set Accuracy  :  0.9649122807017544\n",
            "\tENTROPY : \n",
            "\t\tTrain Set Accuracy :  0.9648351648351648\n",
            "\t\tTest Set Accuracy  :  0.9473684210526315\n",
            "\r\n",
            "DEPTH = 4\n",
            "\tGINI : \n",
            "\t\tTrain Set Accuracy :  0.9846153846153847\n",
            "\t\tTest Set Accuracy  :  0.956140350877193\n",
            "\tENTROPY : \n",
            "\t\tTrain Set Accuracy :  0.9868131868131869\n",
            "\t\tTest Set Accuracy  :  0.9385964912280702\n",
            "\r\n",
            "DEPTH = 5\n",
            "\tGINI : \n",
            "\t\tTrain Set Accuracy :  0.989010989010989\n",
            "\t\tTest Set Accuracy  :  0.9473684210526315\n",
            "\tENTROPY : \n",
            "\t\tTrain Set Accuracy :  0.9912087912087912\n",
            "\t\tTest Set Accuracy  :  0.9210526315789473\n",
            "\r\n",
            "DEPTH = 6\n",
            "\tGINI : \n",
            "\t\tTrain Set Accuracy :  0.9934065934065934\n",
            "\t\tTest Set Accuracy  :  0.9473684210526315\n",
            "\tENTROPY : \n",
            "\t\tTrain Set Accuracy :  0.9934065934065934\n",
            "\t\tTest Set Accuracy  :  0.9035087719298246\n"
          ],
          "name": "stdout"
        }
      ]
    },
    {
      "cell_type": "markdown",
      "metadata": {
        "id": "kSOESN-9NfNa"
      },
      "source": [
        "plot graph"
      ]
    },
    {
      "cell_type": "code",
      "metadata": {
        "colab": {
          "base_uri": "https://localhost:8080/",
          "height": 295
        },
        "id": "GQY9ZQFlNHgt",
        "outputId": "ae7388f5-d566-407e-c0e6-b493e4f7c80a"
      },
      "source": [
        "%matplotlib inline\n",
        "import matplotlib.pyplot as plt\n",
        "plt.style.use(\"dark_background\")\n",
        "fig = plt.figure();\n",
        "ax  = plt.axes();\n",
        "ax.set_xlabel('Depth - 1');\n",
        "ax.set_ylabel('Accuracy');\n",
        "ax.set_title('Accuracy of Test and Train Datasets at Varying Depths');\n",
        "\n",
        "train_gin_accuracy_lst = [accuracy_score(y_train, y_pred_train_gin_d1),\n",
        "                          accuracy_score(y_train, y_pred_train_gin_d2),\n",
        "                          accuracy_score(y_train, y_pred_train_gin_d3),\n",
        "                          accuracy_score(y_train, y_pred_train_gin_d4),\n",
        "                          accuracy_score(y_train, y_pred_train_gin_d5),\n",
        "                          accuracy_score(y_train, y_pred_train_gin_d6)];\n",
        "\n",
        "test_gin_accuracy_lst  = [accuracy_score(y_test, y_pred_test_gin_d1), \n",
        "                         accuracy_score(y_test, y_pred_test_gin_d2), \n",
        "                         accuracy_score(y_test, y_pred_test_gin_d3), \n",
        "                         accuracy_score(y_test, y_pred_test_gin_d4), \n",
        "                         accuracy_score(y_test, y_pred_test_gin_d5), \n",
        "                         accuracy_score(y_test, y_pred_test_gin_d6)];\n",
        "\n",
        "train_ent_accuracy_lst = [accuracy_score(y_train, y_pred_train_ent_d1),\n",
        "                          accuracy_score(y_train, y_pred_train_ent_d2),\n",
        "                          accuracy_score(y_train, y_pred_train_ent_d3),\n",
        "                          accuracy_score(y_train, y_pred_train_ent_d4),\n",
        "                          accuracy_score(y_train, y_pred_train_ent_d5),\n",
        "                          accuracy_score(y_train, y_pred_train_ent_d6)];\n",
        "\n",
        "test_ent_accuracy_lst  = [accuracy_score(y_test, y_pred_test_ent_d1), \n",
        "                         accuracy_score(y_test, y_pred_test_ent_d2), \n",
        "                         accuracy_score(y_test, y_pred_test_ent_d3), \n",
        "                         accuracy_score(y_test, y_pred_test_ent_d4), \n",
        "                         accuracy_score(y_test, y_pred_test_ent_d5), \n",
        "                         accuracy_score(y_test, y_pred_test_ent_d6)];\n",
        "\n",
        "plt.plot(train_gin_accuracy_lst, label  =  \"Train GINI Accuracies\");\n",
        "plt.plot(test_gin_accuracy_lst, label   =  \"Test GINI Accuracies\");\n",
        "\n",
        "plt.plot(train_ent_accuracy_lst, label  =  \"Train ENTROPY Accuracies\");\n",
        "plt.plot(test_gin_accuracy_lst, label   =  \"Test ENTROPY Accuracies\");\n",
        "\n",
        "plt.legend(loc = \"lower right\", frameon =  True);\n"
      ],
      "execution_count": 19,
      "outputs": [
        {
          "output_type": "display_data",
          "data": {
            "image/png": "[encoded data removed]",
            "text/plain": [
              "<Figure size 432x288 with 1 Axes>"
            ]
          },
          "metadata": {}
        }
      ]
    },
    {
      "cell_type": "markdown",
      "metadata": {
        "id": "MtiCZ6Q5PRvJ"
      },
      "source": [
        "\n",
        "\n",
        "Based on the accuracy data, it seems as if increasing the depth increases the accuracy for the Training Datasets whether the GINI or ENTROPY impurity was used for determining the information gain in the descision tree construction.\n",
        "\n",
        "However, the same cannot be said for the Testing Datasets. It seems that the accuracies peak at a depth equal to 2 or 3. This can be seen in both the GINI and ENTROPY cases.\n",
        "\n",
        "Little difference can be seem between the GINI and ENTROPY cases in terms of accuracy. The two testing datasets actually overlap each other on the plot and the training dataset plots are very similar. If anything, GINI is slighly higher.\n",
        "\n",
        "\n",
        "\n",
        "# 4.** Best model from the various tree depths based on test accuracy**\n",
        "\n",
        "Based on the test accuracies the best cases seem to be the GINI impurity at depth 2 and the GINI impurity at depth 3. Both of the accuracies are the same.\n",
        "\n",
        "Since the other accuracies are slightly higher at depth 3 as opposed to 2, I will call the GINI impurity at depth 3 the best decision tree model.\n"
      ]
    },
    {
      "cell_type": "code",
      "metadata": {
        "colab": {
          "base_uri": "https://localhost:8080/"
        },
        "id": "UMo2XMC3P3Lo",
        "outputId": "8c9dbcf8-eb26-4cea-9571-98866fcfcf3f"
      },
      "source": [
        "print(\"Test Set Accuracy d = 2 : \", accuracy_score(y_test, y_pred_test_gin_d2));\n",
        "print(\"Test Set Accuracy d = 3 : \", accuracy_score(y_test, y_pred_test_gin_d3));"
      ],
      "execution_count": 20,
      "outputs": [
        {
          "output_type": "stream",
          "text": [
            "Test Set Accuracy d = 2 :  0.9649122807017544\n",
            "Test Set Accuracy d = 3 :  0.9649122807017544\n"
          ],
          "name": "stdout"
        }
      ]
    },
    {
      "cell_type": "markdown",
      "metadata": {
        "id": "_ZR9MjkKQAmK"
      },
      "source": [
        ""
      ]
    },
    {
      "cell_type": "markdown",
      "metadata": {
        "id": "Q9LUqGeHQAn5"
      },
      "source": [
        "\n",
        "### 5. Compare with other methods\n",
        "# 5.1 Take top 10 features from the best decision tree model and subset these features to create a new dataframe.\n"
      ]
    },
    {
      "cell_type": "code",
      "metadata": {
        "colab": {
          "base_uri": "https://localhost:8080/"
        },
        "id": "SP_R8MesQNCS",
        "outputId": "b5fcfffa-fae4-4c81-cc21-403fc0e2f7cb"
      },
      "source": [
        "important_features_dict = {};\n",
        "\n",
        "for i in range(len(tree_gin_d3.feature_importances_)) :\n",
        "    if (tree_gin_d3.feature_importances_[i] != 0.0) :\n",
        "        important_features_dict[cancer.feature_names[i]] = tree_gin_d3.feature_importances_[i]\n",
        "    else:\n",
        "        pass\n",
        "\n",
        "print(\"Number of Important Features : \", len(important_features_dict));\n",
        "print(\"\\r\\nDictionary of Important Features : \");\n",
        "for (k,v) in important_features_dict.items() :\n",
        "    print(\"\\t\", k,\" : \", v);"
      ],
      "execution_count": 21,
      "outputs": [
        {
          "output_type": "stream",
          "text": [
            "Number of Important Features :  6\n",
            "\r\n",
            "Dictionary of Important Features : \n",
            "\t mean smoothness  :  0.03640379409317912\n",
            "\t mean symmetry  :  0.018404140347107224\n",
            "\t texture error  :  0.010235317781474408\n",
            "\t worst perimeter  :  0.016643728645324384\n",
            "\t worst area  :  0.1446821190899303\n",
            "\t worst concave points  :  0.7736309000429845\n"
          ],
          "name": "stdout"
        }
      ]
    },
    {
      "cell_type": "code",
      "metadata": {
        "id": "BCHSV28UQUwx"
      },
      "source": [
        "data = np.c_[cancer.data, cancer.target];\n",
        "columns = np.append(cancer.feature_names, [\"target\"]);\n",
        "cancer_df = pd.DataFrame(data, columns = columns);\n",
        "\n",
        "for col in cancer_df.columns :\n",
        "    if col not in important_features_dict.keys() :\n",
        "        cancer_df = cancer_df.drop(columns = col);\n",
        "    else:\n",
        "        pass;\n"
      ],
      "execution_count": 22,
      "outputs": []
    },
    {
      "cell_type": "markdown",
      "metadata": {
        "id": "idS4f060QSIa"
      },
      "source": [
        "## 5.2 SVM and logistic regression with just 10 features."
      ]
    },
    {
      "cell_type": "code",
      "metadata": {
        "colab": {
          "base_uri": "https://localhost:8080/",
          "height": 323
        },
        "id": "2q7i_B4XQcv4",
        "outputId": "e00edae9-d5e1-4133-c0c1-98c89c356ba9"
      },
      "source": [
        "Y = cancer.target\n",
        "data_train , data_test, Y_train, Y_test = train_test_split(cancer_df,\n",
        "                                                           Y,\n",
        "                                                           test_size = 0.2, \n",
        "                                                           random_state = 0);\n",
        "\n",
        "import seaborn as sns;\n",
        "sns.set(color_codes = True);\n",
        "sns.distplot(data_test.iloc[:,2:]);\n"
      ],
      "execution_count": 23,
      "outputs": [
        {
          "output_type": "stream",
          "text": [
            "/usr/local/lib/python3.7/dist-packages/seaborn/distributions.py:2557: FutureWarning: `distplot` is a deprecated function and will be removed in a future version. Please adapt your code to use either `displot` (a figure-level function with similar flexibility) or `histplot` (an axes-level function for histograms).\n",
            "  warnings.warn(msg, FutureWarning)\n"
          ],
          "name": "stderr"
        },
        {
          "output_type": "display_data",
          "data": {
            "image/png": "[encoded data removed]",
            "text/plain": [
              "<Figure size 432x288 with 1 Axes>"
            ]
          },
          "metadata": {}
        }
      ]
    },
    {
      "cell_type": "code",
      "metadata": {
        "colab": {
          "base_uri": "https://localhost:8080/",
          "height": 323
        },
        "id": "qVo8gcDlQpln",
        "outputId": "be1c35ee-8f21-438d-8b12-4359b260ff7b"
      },
      "source": [
        "from sklearn.preprocessing import StandardScaler;\n",
        "sc = StandardScaler();\n",
        "sc.fit(data_train.iloc[:,2:]);\n",
        "data_train_std = sc.transform(data_train.iloc[:,2:]);\n",
        "data_test_std  = sc.transform(data_test.iloc[:,2:]);\n",
        "\n",
        "sns.distplot(data_test_std);"
      ],
      "execution_count": 24,
      "outputs": [
        {
          "output_type": "stream",
          "text": [
            "/usr/local/lib/python3.7/dist-packages/seaborn/distributions.py:2557: FutureWarning: `distplot` is a deprecated function and will be removed in a future version. Please adapt your code to use either `displot` (a figure-level function with similar flexibility) or `histplot` (an axes-level function for histograms).\n",
            "  warnings.warn(msg, FutureWarning)\n"
          ],
          "name": "stderr"
        },
        {
          "output_type": "display_data",
          "data": {
            "image/png": "[encoded data removed]",
            "text/plain": [
              "<Figure size 432x288 with 1 Axes>"
            ]
          },
          "metadata": {}
        }
      ]
    },
    {
      "cell_type": "markdown",
      "metadata": {
        "id": "ODsfC-wfQ2uR"
      },
      "source": [
        "# svm"
      ]
    },
    {
      "cell_type": "code",
      "metadata": {
        "colab": {
          "base_uri": "https://localhost:8080/"
        },
        "id": "pL2X_KttQ0GP",
        "outputId": "f15eb41e-2396-4172-d25b-34ff446e9562"
      },
      "source": [
        "from sklearn.svm import SVC;\n",
        "svm = SVC(kernel = \"rbf\", C = 1.0, random_state = 0);\n",
        "svm.fit(data_train_std, Y_train);\n",
        "\n",
        "Y_pred_train = svm.predict(data_train_std,);\n",
        "print(\"SVM Train Set Accuracy : \", accuracy_score(Y_train, Y_pred_train));\n",
        "\n",
        "Y_pred_test = svm.predict(data_test_std,);\n",
        "print(\"SVM Test Set Accuracy  : \", accuracy_score(Y_test, Y_pred_test));"
      ],
      "execution_count": 25,
      "outputs": [
        {
          "output_type": "stream",
          "text": [
            "SVM Train Set Accuracy :  0.9626373626373627\n",
            "SVM Test Set Accuracy  :  0.9473684210526315\n"
          ],
          "name": "stdout"
        }
      ]
    },
    {
      "cell_type": "markdown",
      "metadata": {
        "id": "hLBcaau9Q9ag"
      },
      "source": [
        "lOGISTIC REGRESSION"
      ]
    },
    {
      "cell_type": "code",
      "metadata": {
        "colab": {
          "base_uri": "https://localhost:8080/"
        },
        "id": "UgMVSwsvRBlQ",
        "outputId": "5d6d72ed-9167-4f77-ea96-0f861402c635"
      },
      "source": [
        "from sklearn.linear_model import LogisticRegression\n",
        "lr = LogisticRegression(penalty = 'l2', solver = \"lbfgs\", C= 1.0, random_state = 0);\n",
        "lr.fit(data_train_std, Y_train);\n",
        "\n",
        "Y_pred_train_LR = lr.predict(data_train_std);\n",
        "print(\"LR Train Set Accuracy : \", accuracy_score(Y_train, Y_pred_train_LR));\n",
        "\n",
        "Y_pred_test_LR  = lr.predict(data_test_std);\n",
        "print(\"LR Test Set Accuracy  : \", accuracy_score(Y_test, Y_pred_test_LR));\n"
      ],
      "execution_count": 26,
      "outputs": [
        {
          "output_type": "stream",
          "text": [
            "LR Train Set Accuracy :  0.9582417582417583\n",
            "LR Test Set Accuracy  :  0.9473684210526315\n"
          ],
          "name": "stdout"
        }
      ]
    },
    {
      "cell_type": "markdown",
      "metadata": {
        "id": "QQVR3kJ7RIJP"
      },
      "source": [
        "# Comparative assessment of best decision tree model with the ensemble of decision tree + svm and decision tree + logistic regression¶"
      ]
    },
    {
      "cell_type": "code",
      "metadata": {
        "colab": {
          "base_uri": "https://localhost:8080/"
        },
        "id": "-J2ueFD8RK4J",
        "outputId": "27d6eb36-82c8-477d-c8ca-b0b081f5bb11"
      },
      "source": [
        "print(\"ACCURACY COMPARISON - \\r\\n\")\n",
        "\n",
        "print(\"\\tDECISION TREE\");\n",
        "print(\"\\t\\tBest DEC TREE Train Set Accuracy : \" , accuracy_score(y_train, y_pred_train_gin_d2));\n",
        "print(\"\\t\\tBest DEC TREE Test Set Accuracy  : \" , accuracy_score(y_test, y_pred_test_gin_d2));\n",
        "\n",
        "print(\"\\r\\n\\tSVM\");\n",
        "print(\"\\t\\tSVM Train Set Accuracy : \" , accuracy_score(Y_train, Y_pred_train));\n",
        "print(\"\\t\\tSVM Test Set Accuracy  : \" , accuracy_score(Y_test, Y_pred_test));\n",
        "\n",
        "print(\"\\r\\n\\tLOGISTIC REGRESSION\");\n",
        "print(\"\\t\\tLR Train Set Accuracy  : \"  , accuracy_score(Y_train, Y_pred_train_LR));\n",
        "print(\"\\t\\tLR Test Set Accuracy   : \"  , accuracy_score(Y_test, Y_pred_test_LR));\n",
        "\n",
        "lst_train = [accuracy_score(y_train, y_pred_train_gin_d2),\n",
        "             accuracy_score(Y_train, Y_pred_train),\n",
        "             accuracy_score(Y_train, Y_pred_train_LR)];\n",
        "\n",
        "lst_test  = [accuracy_score(y_test, y_pred_test_gin_d2), \n",
        "             accuracy_score(Y_test, Y_pred_test), \n",
        "             accuracy_score(Y_test, Y_pred_test_LR)];\n",
        "\n",
        "max_lst_train = max(lst_train);\n",
        "max_lst_test = max(lst_test);\n",
        "\n",
        "print(\"\\r\\n\");\n",
        "print(\"MAX Training Accuracy - \", \"SVM (\", max_lst_train, \")\")\n",
        "print(\"MAX Testing Accuracy  - \", \"DECISION TREE (\", max_lst_test, \")\")"
      ],
      "execution_count": 27,
      "outputs": [
        {
          "output_type": "stream",
          "text": [
            "ACCURACY COMPARISON - \r\n",
            "\n",
            "\tDECISION TREE\n",
            "\t\tBest DEC TREE Train Set Accuracy :  0.9516483516483516\n",
            "\t\tBest DEC TREE Test Set Accuracy  :  0.9649122807017544\n",
            "\r\n",
            "\tSVM\n",
            "\t\tSVM Train Set Accuracy :  0.9626373626373627\n",
            "\t\tSVM Test Set Accuracy  :  0.9473684210526315\n",
            "\r\n",
            "\tLOGISTIC REGRESSION\n",
            "\t\tLR Train Set Accuracy  :  0.9582417582417583\n",
            "\t\tLR Test Set Accuracy   :  0.9473684210526315\n",
            "\r\n",
            "\n",
            "MAX Training Accuracy -  SVM ( 0.9626373626373627 )\n",
            "MAX Testing Accuracy  -  DECISION TREE ( 0.9649122807017544 )\n"
          ],
          "name": "stdout"
        }
      ]
    },
    {
      "cell_type": "markdown",
      "metadata": {
        "id": "kQ5l4O2rRVEX"
      },
      "source": [
        "\n",
        "\n",
        "After computing the accuracies for both the testing and training data sets for all three methods, it can be seen that the Descision Tree model has the highest accuracy for the testing dataset. Also, the SVM method has the highest accuracy for the training dataset.\n",
        "\n",
        "Comparing the Decision Tree with SVM, the Training accuracy for the SVM was slightly higher. The testing accuracy was higher in the Decision Tree model.\n",
        "\n",
        "Comparing the Decision Tree with the LR, the accuracy of the LR was only a few thousandths higher. The testing accuracy was higher in the Decision Tree model.\n"
      ]
    },
    {
      "cell_type": "code",
      "metadata": {
        "id": "Fv4KDd_zRYQw"
      },
      "source": [
        ""
      ],
      "execution_count": null,
      "outputs": []
    },
    {
      "cell_type": "markdown",
      "metadata": {
        "id": "KQpJt5ELSZJn"
      },
      "source": [
        ""
      ]
    },
    {
      "cell_type": "code",
      "metadata": {
        "id": "TMV4dUrkSdBN"
      },
      "source": [
        ""
      ],
      "execution_count": null,
      "outputs": []
    },
    {
      "cell_type": "markdown",
      "metadata": {
        "id": "5aUbg64OSdcN"
      },
      "source": [
        "\n",
        "# Trying another tree\n",
        "\n",
        "So the test accuracy suggested that the Gini Tree with a depth of 3 should be chosen as the best tree model. However this only gave us 6 significant features. For this reason let's choose a tree with a greater depth to see if that changes anything.\n"
      ]
    },
    {
      "cell_type": "code",
      "metadata": {
        "colab": {
          "base_uri": "https://localhost:8080/"
        },
        "id": "QhqkzPZfSh1h",
        "outputId": "1f3575c3-b0f9-48e7-98ff-c921e0429690"
      },
      "source": [
        "important_features_dict = {};\n",
        "\n",
        "for i in range(len(tree_ent_d5.feature_importances_)) :\n",
        "    if (tree_ent_d6.feature_importances_[i] != 0.0) :\n",
        "        important_features_dict[cancer.feature_names[i]] = tree_ent_d6.feature_importances_[i]\n",
        "    else:\n",
        "        pass\n",
        "\n",
        "print(\"Number of Important Features : \", len(important_features_dict));\n",
        "print(\"\\r\\nDictionary of Important Features : \");\n",
        "for (k,v) in important_features_dict.items() :\n",
        "    print(\"\\t\", k,\" : \", v);\n",
        "    \n",
        "data = np.c_[cancer.data, cancer.target];\n",
        "columns = np.append(cancer.feature_names, [\"target\"]);\n",
        "cancer_df = pd.DataFrame(data, columns = columns);\n",
        "\n",
        "for col in cancer_df.columns :\n",
        "    if col not in important_features_dict.keys() :\n",
        "        cancer_df = cancer_df.drop(columns = col);\n",
        "    else:\n",
        "        pass;"
      ],
      "execution_count": 28,
      "outputs": [
        {
          "output_type": "stream",
          "text": [
            "Number of Important Features :  9\n",
            "\r\n",
            "Dictionary of Important Features : \n",
            "\t mean texture  :  0.046056611470947584\n",
            "\t mean smoothness  :  0.026158870733899654\n",
            "\t mean symmetry  :  0.022654407964988986\n",
            "\t radius error  :  0.02037739568123065\n",
            "\t concave points error  :  0.006498800969681577\n",
            "\t symmetry error  :  0.02101989660291507\n",
            "\t worst texture  :  0.074252797652416\n",
            "\t worst perimeter  :  0.18865332879041974\n",
            "\t worst concave points  :  0.5943278901335006\n"
          ],
          "name": "stdout"
        }
      ]
    },
    {
      "cell_type": "markdown",
      "metadata": {
        "id": "VclO3gJXSqAm"
      },
      "source": [
        "# SVM"
      ]
    },
    {
      "cell_type": "code",
      "metadata": {
        "colab": {
          "base_uri": "https://localhost:8080/"
        },
        "id": "uCi9DoupSswZ",
        "outputId": "7542c5cc-2ee3-4303-b95b-add09a6ecb98"
      },
      "source": [
        "Y = cancer.target\n",
        "data_train , data_test, Y_train, Y_test = train_test_split(cancer_df,\n",
        "                                                           Y,\n",
        "                                                           test_size = 0.2, \n",
        "                                                           random_state = 0);\n",
        "\n",
        "sns.set(color_codes = True);\n",
        "\n",
        "sc = StandardScaler();\n",
        "sc.fit(data_train.iloc[:,2:]);\n",
        "data_train_std = sc.transform(data_train.iloc[:,2:]);\n",
        "data_test_std  = sc.transform(data_test.iloc[:,2:]);\n",
        "\n",
        "svm = SVC(kernel = \"rbf\", C = 1.0, random_state = 0);\n",
        "svm.fit(data_train_std, Y_train);\n",
        "\n",
        "Y_pred_train = svm.predict(data_train_std,);\n",
        "print(\"SVM Train Set Accuracy : \", accuracy_score(Y_train, Y_pred_train));\n",
        "\n",
        "Y_pred_test = svm.predict(data_test_std,);\n",
        "print(\"SVM Test Set Accuracy  : \", accuracy_score(Y_test, Y_pred_test));"
      ],
      "execution_count": 29,
      "outputs": [
        {
          "output_type": "stream",
          "text": [
            "SVM Train Set Accuracy :  0.9802197802197802\n",
            "SVM Test Set Accuracy  :  0.956140350877193\n"
          ],
          "name": "stdout"
        }
      ]
    },
    {
      "cell_type": "markdown",
      "metadata": {
        "id": "9B6O_VNESykB"
      },
      "source": [
        "# LR"
      ]
    },
    {
      "cell_type": "code",
      "metadata": {
        "colab": {
          "base_uri": "https://localhost:8080/"
        },
        "id": "D0b9qXhRS1UA",
        "outputId": "4a0f520a-2505-48ac-e819-d8f1794fc3ad"
      },
      "source": [
        "lr = LogisticRegression(penalty = 'l2', solver = \"lbfgs\", C= 1.0, random_state = 0);\n",
        "lr.fit(data_train_std, Y_train);\n",
        "\n",
        "Y_pred_train_LR = lr.predict(data_train_std);\n",
        "print(\"LR Train Set Accuracy : \", accuracy_score(Y_train, Y_pred_train_LR));\n",
        "\n",
        "Y_pred_test_LR  = lr.predict(data_test_std);\n",
        "print(\"LR Test Set Accuracy  : \", accuracy_score(Y_test, Y_pred_test_LR));"
      ],
      "execution_count": 30,
      "outputs": [
        {
          "output_type": "stream",
          "text": [
            "LR Train Set Accuracy :  0.9758241758241758\n",
            "LR Test Set Accuracy  :  0.9473684210526315\n"
          ],
          "name": "stdout"
        }
      ]
    },
    {
      "cell_type": "markdown",
      "metadata": {
        "id": "GGt5RxXjS66A"
      },
      "source": [
        "# COMPARISON"
      ]
    },
    {
      "cell_type": "code",
      "metadata": {
        "colab": {
          "base_uri": "https://localhost:8080/"
        },
        "id": "6TOMCO04TICz",
        "outputId": "01985e88-ef59-4a25-efe1-47737d91e448"
      },
      "source": [
        "print(\"ACCURACY COMPARISON - \\r\\n\")\n",
        "\n",
        "print(\"\\tDECISION TREE\");\n",
        "print(\"\\t\\tBest DEC TREE Train Set Accuracy : \" , accuracy_score(y_train, y_pred_train_ent_d6));\n",
        "print(\"\\t\\tBest DEC TREE Test Set Accuracy  : \" , accuracy_score(y_test, y_pred_test_ent_d6));\n",
        "\n",
        "print(\"\\r\\n\\tSVM\");\n",
        "print(\"\\t\\tSVM Train Set Accuracy : \" , accuracy_score(Y_train, Y_pred_train));\n",
        "print(\"\\t\\tSVM Test Set Accuracy  : \" , accuracy_score(Y_test, Y_pred_test));\n",
        "\n",
        "print(\"\\r\\n\\tLOGISTIC REGRESSION\");\n",
        "print(\"\\t\\tLR Train Set Accuracy  : \"  , accuracy_score(Y_train, Y_pred_train_LR));\n",
        "print(\"\\t\\tLR Test Set Accuracy   : \"  , accuracy_score(Y_test, Y_pred_test_LR));\n",
        "\n",
        "lst_train = [accuracy_score(y_train, y_pred_train_ent_d6),\n",
        "             accuracy_score(Y_train, Y_pred_train),\n",
        "             accuracy_score(Y_train, Y_pred_train_LR)];\n",
        "\n",
        "lst_test  = [accuracy_score(y_test, y_pred_test_ent_d6), \n",
        "             accuracy_score(Y_test, Y_pred_test), \n",
        "             accuracy_score(Y_test, Y_pred_test_LR)];\n",
        "\n",
        "max_lst_train = max(lst_train);\n",
        "max_lst_test = max(lst_test);\n",
        "\n",
        "print(\"\\r\\n\");\n",
        "print(\"MAX Training Accuracy - \", \"DECISION TREE (\", max_lst_train, \")\")\n",
        "print(\"MAX Testing Accuracy  - \", \"SVM (\", max_lst_test, \")\")\n"
      ],
      "execution_count": 31,
      "outputs": [
        {
          "output_type": "stream",
          "text": [
            "ACCURACY COMPARISON - \r\n",
            "\n",
            "\tDECISION TREE\n",
            "\t\tBest DEC TREE Train Set Accuracy :  0.9934065934065934\n",
            "\t\tBest DEC TREE Test Set Accuracy  :  0.9035087719298246\n",
            "\r\n",
            "\tSVM\n",
            "\t\tSVM Train Set Accuracy :  0.9802197802197802\n",
            "\t\tSVM Test Set Accuracy  :  0.956140350877193\n",
            "\r\n",
            "\tLOGISTIC REGRESSION\n",
            "\t\tLR Train Set Accuracy  :  0.9758241758241758\n",
            "\t\tLR Test Set Accuracy   :  0.9473684210526315\n",
            "\r\n",
            "\n",
            "MAX Training Accuracy -  DECISION TREE ( 0.9934065934065934 )\n",
            "MAX Testing Accuracy  -  SVM ( 0.956140350877193 )\n"
          ],
          "name": "stdout"
        }
      ]
    },
    {
      "cell_type": "markdown",
      "metadata": {
        "id": "aNEeQGj3TP9g"
      },
      "source": [
        "So the decison tree chosen actually had the lowest test accuracy. As a result, SVM had the highest test accuracy, and the decision tree model had the best training accuracy. It should be noted that having a tree with a greater depth allowed more features to be considered - allowing for the SVM and LR models to be more accurate."
      ]
    }
  ]
}